{
 "cells": [
  {
   "cell_type": "markdown",
   "id": "d6a270d1-f8ec-460e-b60c-5daccabb4d6d",
   "metadata": {
    "tags": []
   },
   "source": [
    "## Living Costs Food Survey: Data Cleaning"
   ]
  },
  {
   "cell_type": "markdown",
   "id": "f0510ea6-0740-4472-ab01-fb3d5a3379fb",
   "metadata": {},
   "source": [
    "This script contains the following:\n",
    "#### 01. Import Libraries and Assign Path\n",
    "#### 02. Importing and Checking UK_BMI.xlsx\n",
    "#### 03. Wrangling df_BMI\n",
    "##### Change data types, check for null values and mixed-type data \n",
    "##### Check for duplicates and unique values\n",
    "#### 04. Descriptive Statistics BMI\n",
    "#### 05. Export the dataframe as BMI.csv\n",
    "---"
   ]
  },
  {
   "cell_type": "markdown",
   "id": "bebcde15-e64a-41a6-a059-e16b799ffa19",
   "metadata": {
    "tags": []
   },
   "source": [
    "## 01. Import Libraries and Assign Path"
   ]
  },
  {
   "cell_type": "code",
   "execution_count": 1,
   "id": "75674a29-782a-442e-91b3-41d866d53c8b",
   "metadata": {},
   "outputs": [],
   "source": [
    "# Import libraries\n",
    "import pandas as pd\n",
    "import numpy as np\n",
    "import os\n",
    "import datetime\n",
    "import matplotlib.pyplot as plt\n",
    "import seaborn as sns\n",
    "import scipy"
   ]
  },
  {
   "cell_type": "code",
   "execution_count": 2,
   "id": "6d29be8d-3ec0-4c28-bcb6-85ebb87411d4",
   "metadata": {},
   "outputs": [],
   "source": [
    "# Assign the main project folder path to the variable path\n",
    "path = r'/Users/elsaekevall/Jupyter_Notebook/Career_Foundry/09_2022_LCF_Analysis/'"
   ]
  },
  {
   "cell_type": "code",
   "execution_count": 3,
   "id": "0a59d903-f968-4a20-bccc-96b0764b35ca",
   "metadata": {},
   "outputs": [
    {
     "data": {
      "text/plain": [
       "'/Users/elsaekevall/Jupyter_Notebook/Career_Foundry/09_2022_LCF_Analysis/'"
      ]
     },
     "execution_count": 3,
     "metadata": {},
     "output_type": "execute_result"
    }
   ],
   "source": [
    "path"
   ]
  },
  {
   "cell_type": "markdown",
   "id": "e5608eaf-38c2-4b3c-90ab-a215fe23eb66",
   "metadata": {
    "tags": []
   },
   "source": [
    "## 02. Importing and Checking UK_BMI.xlsx"
   ]
  },
  {
   "cell_type": "code",
   "execution_count": 4,
   "id": "fe406a34-3f78-44b7-bf68-d175d1d9017e",
   "metadata": {},
   "outputs": [
    {
     "data": {
      "text/html": [
       "<div>\n",
       "<style scoped>\n",
       "    .dataframe tbody tr th:only-of-type {\n",
       "        vertical-align: middle;\n",
       "    }\n",
       "\n",
       "    .dataframe tbody tr th {\n",
       "        vertical-align: top;\n",
       "    }\n",
       "\n",
       "    .dataframe thead th {\n",
       "        text-align: right;\n",
       "    }\n",
       "</style>\n",
       "<table border=\"1\" class=\"dataframe\">\n",
       "  <thead>\n",
       "    <tr style=\"text-align: right;\">\n",
       "      <th></th>\n",
       "      <th>region</th>\n",
       "      <th>% underweight</th>\n",
       "      <th>% normal</th>\n",
       "      <th>% overweight</th>\n",
       "      <th>% obese</th>\n",
       "      <th>% morbidly obese</th>\n",
       "      <th>% overweight (25+)</th>\n",
       "      <th>% obese (30+)</th>\n",
       "      <th>year</th>\n",
       "      <th>age_group</th>\n",
       "    </tr>\n",
       "  </thead>\n",
       "  <tbody>\n",
       "    <tr>\n",
       "      <th>0</th>\n",
       "      <td>North East</td>\n",
       "      <td>2.582532</td>\n",
       "      <td>31.197942</td>\n",
       "      <td>32.244135</td>\n",
       "      <td>29.483563</td>\n",
       "      <td>4.491828</td>\n",
       "      <td>66.219526</td>\n",
       "      <td>33.975391</td>\n",
       "      <td>2019</td>\n",
       "      <td>16+</td>\n",
       "    </tr>\n",
       "    <tr>\n",
       "      <th>1</th>\n",
       "      <td>North West</td>\n",
       "      <td>0.560719</td>\n",
       "      <td>30.982223</td>\n",
       "      <td>38.279052</td>\n",
       "      <td>26.739931</td>\n",
       "      <td>3.438074</td>\n",
       "      <td>68.457057</td>\n",
       "      <td>30.178005</td>\n",
       "      <td>2019</td>\n",
       "      <td>16+</td>\n",
       "    </tr>\n",
       "    <tr>\n",
       "      <th>2</th>\n",
       "      <td>Yorkshire &amp; the Humber</td>\n",
       "      <td>0.747205</td>\n",
       "      <td>35.800674</td>\n",
       "      <td>34.390792</td>\n",
       "      <td>24.562451</td>\n",
       "      <td>4.498878</td>\n",
       "      <td>63.452121</td>\n",
       "      <td>29.061329</td>\n",
       "      <td>2019</td>\n",
       "      <td>16+</td>\n",
       "    </tr>\n",
       "    <tr>\n",
       "      <th>3</th>\n",
       "      <td>East Midlands</td>\n",
       "      <td>2.335773</td>\n",
       "      <td>32.922971</td>\n",
       "      <td>33.958128</td>\n",
       "      <td>26.669912</td>\n",
       "      <td>4.113216</td>\n",
       "      <td>64.741257</td>\n",
       "      <td>30.783128</td>\n",
       "      <td>2019</td>\n",
       "      <td>16+</td>\n",
       "    </tr>\n",
       "    <tr>\n",
       "      <th>4</th>\n",
       "      <td>West Midlands</td>\n",
       "      <td>2.657712</td>\n",
       "      <td>28.137455</td>\n",
       "      <td>35.628076</td>\n",
       "      <td>29.294755</td>\n",
       "      <td>4.282002</td>\n",
       "      <td>69.204833</td>\n",
       "      <td>33.576757</td>\n",
       "      <td>2019</td>\n",
       "      <td>16+</td>\n",
       "    </tr>\n",
       "  </tbody>\n",
       "</table>\n",
       "</div>"
      ],
      "text/plain": [
       "                   region % underweight   % normal % overweight    % obese  \\\n",
       "0              North East      2.582532  31.197942    32.244135  29.483563   \n",
       "1              North West      0.560719  30.982223    38.279052  26.739931   \n",
       "2  Yorkshire & the Humber      0.747205  35.800674    34.390792  24.562451   \n",
       "3           East Midlands      2.335773  32.922971    33.958128  26.669912   \n",
       "4           West Midlands      2.657712  28.137455    35.628076  29.294755   \n",
       "\n",
       "  % morbidly obese % overweight (25+) % obese (30+)  year age_group  \n",
       "0         4.491828          66.219526     33.975391  2019       16+  \n",
       "1         3.438074          68.457057     30.178005  2019       16+  \n",
       "2         4.498878          63.452121     29.061329  2019       16+  \n",
       "3         4.113216          64.741257     30.783128  2019       16+  \n",
       "4         4.282002          69.204833     33.576757  2019       16+  "
      ]
     },
     "execution_count": 4,
     "metadata": {},
     "output_type": "execute_result"
    }
   ],
   "source": [
    "# Use the os.path.join() function to import the UK_BMI.xlsx file as pandas a dataframe without the index column and view first five rows\n",
    "df_BMI = pd.read_excel(os.path.join(path, '02_Data', '02_1_Original_Data', 'UK_BMI.xlsx'), index_col = False)\n",
    "df_BMI.head()"
   ]
  },
  {
   "cell_type": "code",
   "execution_count": 5,
   "id": "85ed1aa5-3f9f-4a72-847f-259931f91717",
   "metadata": {},
   "outputs": [
    {
     "data": {
      "text/html": [
       "<div>\n",
       "<style scoped>\n",
       "    .dataframe tbody tr th:only-of-type {\n",
       "        vertical-align: middle;\n",
       "    }\n",
       "\n",
       "    .dataframe tbody tr th {\n",
       "        vertical-align: top;\n",
       "    }\n",
       "\n",
       "    .dataframe thead th {\n",
       "        text-align: right;\n",
       "    }\n",
       "</style>\n",
       "<table border=\"1\" class=\"dataframe\">\n",
       "  <thead>\n",
       "    <tr style=\"text-align: right;\">\n",
       "      <th></th>\n",
       "      <th>region</th>\n",
       "      <th>% underweight</th>\n",
       "      <th>% normal</th>\n",
       "      <th>% overweight</th>\n",
       "      <th>% obese</th>\n",
       "      <th>% morbidly obese</th>\n",
       "      <th>% overweight (25+)</th>\n",
       "      <th>% obese (30+)</th>\n",
       "      <th>year</th>\n",
       "      <th>age_group</th>\n",
       "    </tr>\n",
       "  </thead>\n",
       "  <tbody>\n",
       "    <tr>\n",
       "      <th>70</th>\n",
       "      <td>Northern Ireland</td>\n",
       "      <td>1.723454</td>\n",
       "      <td>36.573337</td>\n",
       "      <td>36.752133</td>\n",
       "      <td>22.722156</td>\n",
       "      <td>2.228921</td>\n",
       "      <td>61.703209</td>\n",
       "      <td>24.951077</td>\n",
       "      <td>2019</td>\n",
       "      <td>16+</td>\n",
       "    </tr>\n",
       "    <tr>\n",
       "      <th>71</th>\n",
       "      <td>Northern Ireland</td>\n",
       "      <td>1.531777</td>\n",
       "      <td>34.355888</td>\n",
       "      <td>37.714028</td>\n",
       "      <td>23.663306</td>\n",
       "      <td>2.735</td>\n",
       "      <td>64.112334</td>\n",
       "      <td>26.398306</td>\n",
       "      <td>2018</td>\n",
       "      <td>16+</td>\n",
       "    </tr>\n",
       "    <tr>\n",
       "      <th>72</th>\n",
       "      <td>Northern Ireland</td>\n",
       "      <td>1.530822</td>\n",
       "      <td>36.295681</td>\n",
       "      <td>35.168353</td>\n",
       "      <td>24.205032</td>\n",
       "      <td>2.800112</td>\n",
       "      <td>62.173498</td>\n",
       "      <td>27.005144</td>\n",
       "      <td>2017</td>\n",
       "      <td>16+</td>\n",
       "    </tr>\n",
       "    <tr>\n",
       "      <th>73</th>\n",
       "      <td>Northern Ireland</td>\n",
       "      <td>1.434617</td>\n",
       "      <td>37.574693</td>\n",
       "      <td>34.611944</td>\n",
       "      <td>24.032178</td>\n",
       "      <td>2.346568</td>\n",
       "      <td>60.99069</td>\n",
       "      <td>26.378746</td>\n",
       "      <td>2016</td>\n",
       "      <td>16+</td>\n",
       "    </tr>\n",
       "    <tr>\n",
       "      <th>74</th>\n",
       "      <td>Northern Ireland</td>\n",
       "      <td>1.730771</td>\n",
       "      <td>37.232317</td>\n",
       "      <td>36.081966</td>\n",
       "      <td>22.229643</td>\n",
       "      <td>2.725303</td>\n",
       "      <td>61.036913</td>\n",
       "      <td>24.954946</td>\n",
       "      <td>2015</td>\n",
       "      <td>16+</td>\n",
       "    </tr>\n",
       "  </tbody>\n",
       "</table>\n",
       "</div>"
      ],
      "text/plain": [
       "              region % underweight   % normal % overweight    % obese  \\\n",
       "70  Northern Ireland      1.723454  36.573337    36.752133  22.722156   \n",
       "71  Northern Ireland      1.531777  34.355888    37.714028  23.663306   \n",
       "72  Northern Ireland      1.530822  36.295681    35.168353  24.205032   \n",
       "73  Northern Ireland      1.434617  37.574693    34.611944  24.032178   \n",
       "74  Northern Ireland      1.730771  37.232317    36.081966  22.229643   \n",
       "\n",
       "   % morbidly obese % overweight (25+) % obese (30+)  year age_group  \n",
       "70         2.228921          61.703209     24.951077  2019       16+  \n",
       "71            2.735          64.112334     26.398306  2018       16+  \n",
       "72         2.800112          62.173498     27.005144  2017       16+  \n",
       "73         2.346568           60.99069     26.378746  2016       16+  \n",
       "74         2.725303          61.036913     24.954946  2015       16+  "
      ]
     },
     "execution_count": 5,
     "metadata": {},
     "output_type": "execute_result"
    }
   ],
   "source": [
    "# check bottom five rows of the dataframe df_BMI\n",
    "df_BMI.tail()"
   ]
  },
  {
   "cell_type": "code",
   "execution_count": 6,
   "id": "90d42b80-9fec-4946-93a0-1ae19b14c759",
   "metadata": {},
   "outputs": [
    {
     "name": "stdout",
     "output_type": "stream",
     "text": [
      "<class 'pandas.core.frame.DataFrame'>\n",
      "RangeIndex: 75 entries, 0 to 74\n",
      "Data columns (total 10 columns):\n",
      " #   Column              Non-Null Count  Dtype \n",
      "---  ------              --------------  ----- \n",
      " 0   region              75 non-null     object\n",
      " 1   % underweight       75 non-null     object\n",
      " 2   % normal            75 non-null     object\n",
      " 3   % overweight        75 non-null     object\n",
      " 4   % obese             75 non-null     object\n",
      " 5   % morbidly obese    75 non-null     object\n",
      " 6   % overweight (25+)  75 non-null     object\n",
      " 7   % obese (30+)       75 non-null     object\n",
      " 8   year                75 non-null     int64 \n",
      " 9   age_group           75 non-null     object\n",
      "dtypes: int64(1), object(9)\n",
      "memory usage: 6.0+ KB\n"
     ]
    }
   ],
   "source": [
    "# dataframe information\n",
    "df_BMI.info()"
   ]
  },
  {
   "cell_type": "code",
   "execution_count": 7,
   "id": "bc50221c-a77f-4781-8b17-bac49a3751ac",
   "metadata": {},
   "outputs": [
    {
     "data": {
      "text/plain": [
       "Index(['region', '% underweight', '% normal', '% overweight', '% obese',\n",
       "       '% morbidly obese', '% overweight (25+)', '% obese (30+)', 'year',\n",
       "       'age_group'],\n",
       "      dtype='object')"
      ]
     },
     "execution_count": 7,
     "metadata": {},
     "output_type": "execute_result"
    }
   ],
   "source": [
    "# Check the dataframe columns\n",
    "df_BMI.columns"
   ]
  },
  {
   "cell_type": "code",
   "execution_count": 8,
   "id": "464b7222-cc4f-4053-9332-c0a8cd82f3b9",
   "metadata": {},
   "outputs": [
    {
     "data": {
      "text/plain": [
       "(75, 10)"
      ]
     },
     "execution_count": 8,
     "metadata": {},
     "output_type": "execute_result"
    }
   ],
   "source": [
    "# Check the dataframe shape\n",
    "df_BMI.shape"
   ]
  },
  {
   "cell_type": "markdown",
   "id": "492119f4-146b-4915-a7dc-32107c54b824",
   "metadata": {
    "tags": []
   },
   "source": [
    "## 03. Cleaning and Wrangling df_BMI"
   ]
  },
  {
   "cell_type": "markdown",
   "id": "3e0384eb-4f03-40ef-abd3-f4cfeffd6aff",
   "metadata": {
    "tags": []
   },
   "source": [
    "### Change data types, check for null values and mixed-type data "
   ]
  },
  {
   "cell_type": "code",
   "execution_count": 9,
   "id": "d13127f8-50ac-4a66-8edf-4eb507963e4e",
   "metadata": {},
   "outputs": [],
   "source": [
    "# Change the %'s columns to float and the Year to integer\n",
    "df_BMI = df_BMI.astype({'% underweight': 'float32', '% normal': 'float32', '% overweight': 'float32', '% obese': 'float32', '% morbidly obese': 'float32', '% overweight (25+)': 'float32', '% obese (30+)': 'float32'})\n",
    "df_BMI['year'] = df_BMI['year'].astype('int32')"
   ]
  },
  {
   "cell_type": "code",
   "execution_count": 10,
   "id": "e3a5256f-5c8a-4bfa-88fa-609ce33936f1",
   "metadata": {},
   "outputs": [
    {
     "data": {
      "text/plain": [
       "region                 object\n",
       "% underweight         float32\n",
       "% normal              float32\n",
       "% overweight          float32\n",
       "% obese               float32\n",
       "% morbidly obese      float32\n",
       "% overweight (25+)    float32\n",
       "% obese (30+)         float32\n",
       "year                    int32\n",
       "age_group              object\n",
       "dtype: object"
      ]
     },
     "execution_count": 10,
     "metadata": {},
     "output_type": "execute_result"
    }
   ],
   "source": [
    "# dataframe types\n",
    "df_BMI.dtypes"
   ]
  },
  {
   "cell_type": "code",
   "execution_count": 11,
   "id": "13e305de-dd32-44f7-9503-91b50bf5101f",
   "metadata": {},
   "outputs": [
    {
     "data": {
      "text/plain": [
       "region                75\n",
       "% underweight         59\n",
       "% normal              59\n",
       "% overweight          64\n",
       "% obese               59\n",
       "% morbidly obese      59\n",
       "% overweight (25+)    73\n",
       "% obese (30+)         73\n",
       "year                  75\n",
       "age_group             75\n",
       "dtype: int64"
      ]
     },
     "execution_count": 11,
     "metadata": {},
     "output_type": "execute_result"
    }
   ],
   "source": [
    "# Count the values in each column\n",
    "df_BMI.count()"
   ]
  },
  {
   "cell_type": "code",
   "execution_count": 12,
   "id": "f94858d3-858f-4bad-b835-91bb047001fb",
   "metadata": {},
   "outputs": [
    {
     "data": {
      "text/plain": [
       "region                 0\n",
       "% underweight         16\n",
       "% normal              16\n",
       "% overweight          11\n",
       "% obese               16\n",
       "% morbidly obese      16\n",
       "% overweight (25+)     2\n",
       "% obese (30+)          2\n",
       "year                   0\n",
       "age_group              0\n",
       "dtype: int64"
      ]
     },
     "execution_count": 12,
     "metadata": {},
     "output_type": "execute_result"
    }
   ],
   "source": [
    "# Count NaN values in the dataframe\n",
    "df_BMI.isnull().sum()"
   ]
  },
  {
   "cell_type": "markdown",
   "id": "e6f87c0d-c405-4b17-91a7-2dcc3d5a36d3",
   "metadata": {},
   "source": [
    "Nulls in % Overweight and % Obese due to missing data for Wales in 2015 and 2016"
   ]
  },
  {
   "cell_type": "code",
   "execution_count": 13,
   "id": "80bbac34-23f8-4be7-9164-b9a34cb2e0c0",
   "metadata": {},
   "outputs": [],
   "source": [
    "# Check for mixed-type data\n",
    "for col in df_BMI.columns.tolist():\n",
    "  weird = (df_BMI[[col]].applymap(type) != df_BMI[[col]].iloc[0].apply(type)).any(axis = 1)\n",
    "  if len (df_BMI[weird]) > 0:\n",
    "    print (col)"
   ]
  },
  {
   "cell_type": "markdown",
   "id": "9ea36ff6-5743-4bec-89d7-bd338a978fef",
   "metadata": {
    "tags": []
   },
   "source": [
    "No mixed type columns"
   ]
  },
  {
   "cell_type": "markdown",
   "id": "72ca869f-6de7-41f0-ab34-a001c6d1871c",
   "metadata": {
    "tags": []
   },
   "source": [
    "### Check for duplicates and unique values"
   ]
  },
  {
   "cell_type": "code",
   "execution_count": 14,
   "id": "abec577c-a5b3-483c-a582-8c7f7c1d88cd",
   "metadata": {},
   "outputs": [
    {
     "data": {
      "text/html": [
       "<div>\n",
       "<style scoped>\n",
       "    .dataframe tbody tr th:only-of-type {\n",
       "        vertical-align: middle;\n",
       "    }\n",
       "\n",
       "    .dataframe tbody tr th {\n",
       "        vertical-align: top;\n",
       "    }\n",
       "\n",
       "    .dataframe thead th {\n",
       "        text-align: right;\n",
       "    }\n",
       "</style>\n",
       "<table border=\"1\" class=\"dataframe\">\n",
       "  <thead>\n",
       "    <tr style=\"text-align: right;\">\n",
       "      <th></th>\n",
       "      <th>region</th>\n",
       "      <th>% underweight</th>\n",
       "      <th>% normal</th>\n",
       "      <th>% overweight</th>\n",
       "      <th>% obese</th>\n",
       "      <th>% morbidly obese</th>\n",
       "      <th>% overweight (25+)</th>\n",
       "      <th>% obese (30+)</th>\n",
       "      <th>year</th>\n",
       "      <th>age_group</th>\n",
       "    </tr>\n",
       "  </thead>\n",
       "  <tbody>\n",
       "  </tbody>\n",
       "</table>\n",
       "</div>"
      ],
      "text/plain": [
       "Empty DataFrame\n",
       "Columns: [region, % underweight, % normal, % overweight, % obese, % morbidly obese, % overweight (25+), % obese (30+), year, age_group]\n",
       "Index: []"
      ]
     },
     "execution_count": 14,
     "metadata": {},
     "output_type": "execute_result"
    }
   ],
   "source": [
    "# Check for duplicates in the df_BMI dataframe\n",
    "df_BMI_dups = df_BMI[df_BMI.duplicated()]\n",
    "df_BMI_dups"
   ]
  },
  {
   "cell_type": "markdown",
   "id": "8705adac-d9c4-4b7e-8332-75cc1c71a1a5",
   "metadata": {},
   "source": [
    "There are no duplicates in the df_BMI dataframe"
   ]
  },
  {
   "cell_type": "code",
   "execution_count": 15,
   "id": "ca8eaca3-00d9-49de-be9e-090efe1dd4ce",
   "metadata": {},
   "outputs": [
    {
     "data": {
      "text/plain": [
       "region                13\n",
       "% underweight         46\n",
       "% normal              50\n",
       "% overweight          54\n",
       "% obese               50\n",
       "% morbidly obese      50\n",
       "% overweight (25+)    62\n",
       "% obese (30+)         62\n",
       "year                   5\n",
       "age_group              2\n",
       "dtype: int64"
      ]
     },
     "execution_count": 15,
     "metadata": {},
     "output_type": "execute_result"
    }
   ],
   "source": [
    "# Count the unique values in each column\n",
    "df_BMI.nunique()"
   ]
  },
  {
   "cell_type": "markdown",
   "id": "a97c19ac-10f7-4d98-a68f-7e5f7b234fc7",
   "metadata": {},
   "source": [
    "Region, Year and Age Group counts as expected"
   ]
  },
  {
   "cell_type": "code",
   "execution_count": 16,
   "id": "1b3b5d3a-9bf1-47bf-862e-25a5732722f0",
   "metadata": {},
   "outputs": [
    {
     "data": {
      "text/plain": [
       "England                   10\n",
       "Scotland                  10\n",
       "North East                 5\n",
       "North West                 5\n",
       "Yorkshire & the Humber     5\n",
       "East Midlands              5\n",
       "West Midlands              5\n",
       "East of England            5\n",
       "London                     5\n",
       "South East                 5\n",
       "South West                 5\n",
       "Wales                      5\n",
       "Northern Ireland           5\n",
       "Name: region, dtype: int64"
      ]
     },
     "execution_count": 16,
     "metadata": {},
     "output_type": "execute_result"
    }
   ],
   "source": [
    "# Check the Region column\n",
    "df_BMI['region'].value_counts(dropna = False)"
   ]
  },
  {
   "cell_type": "markdown",
   "id": "19eec27c-d861-439c-b585-6e6771894f3b",
   "metadata": {},
   "source": [
    "As expected only Scotland and England have children and adults"
   ]
  },
  {
   "cell_type": "code",
   "execution_count": 17,
   "id": "52a729ef-7b9e-4e2f-b8cf-5d49385e810f",
   "metadata": {
    "scrolled": true,
    "tags": []
   },
   "outputs": [
    {
     "data": {
      "text/plain": [
       "NaN         16\n",
       "1.200000     3\n",
       "1.600000     2\n",
       "0.671306     2\n",
       "2.088244     2\n",
       "1.935756     2\n",
       "2.328733     2\n",
       "1.260680     2\n",
       "1.118472     2\n",
       "1.700000     2\n",
       "1.813489     2\n",
       "0.710429     2\n",
       "1.956820     2\n",
       "1.400000     1\n",
       "1.100000     1\n",
       "0.800000     1\n",
       "1.300000     1\n",
       "2.183322     1\n",
       "2.066293     1\n",
       "1.576960     1\n",
       "1.800000     1\n",
       "2.000000     1\n",
       "1.723454     1\n",
       "1.531777     1\n",
       "1.530822     1\n",
       "1.434617     1\n",
       "2.582531     1\n",
       "0.560719     1\n",
       "1.674516     1\n",
       "0.747205     1\n",
       "2.335773     1\n",
       "2.657712     1\n",
       "1.308611     1\n",
       "2.857910     1\n",
       "1.725926     1\n",
       "1.575210     1\n",
       "1.768487     1\n",
       "1.118261     1\n",
       "2.605074     1\n",
       "0.884723     1\n",
       "1.175165     1\n",
       "2.050302     1\n",
       "1.348689     1\n",
       "2.241557     1\n",
       "1.424282     1\n",
       "2.118898     1\n",
       "1.730771     1\n",
       "Name: % underweight, dtype: int64"
      ]
     },
     "execution_count": 17,
     "metadata": {},
     "output_type": "execute_result"
    }
   ],
   "source": [
    "# Check the % Underweight column\n",
    "df_BMI['% underweight'].value_counts(dropna = False)"
   ]
  },
  {
   "cell_type": "code",
   "execution_count": 18,
   "id": "a51c6156-85b9-4ceb-b749-f7cb6e20daff",
   "metadata": {
    "scrolled": true,
    "tags": []
   },
   "outputs": [
    {
     "data": {
      "text/plain": [
       "NaN          16\n",
       "28.041981     2\n",
       "34.579750     2\n",
       "38.821323     2\n",
       "35.515903     2\n",
       "34.503407     2\n",
       "29.177801     2\n",
       "34.795963     2\n",
       "31.858065     2\n",
       "36.425758     2\n",
       "71.199997     1\n",
       "69.400002     1\n",
       "37.574692     1\n",
       "36.295681     1\n",
       "34.355888     1\n",
       "36.542343     1\n",
       "36.573338     1\n",
       "38.400002     1\n",
       "37.299999     1\n",
       "38.700001     1\n",
       "34.906380     1\n",
       "30.500000     1\n",
       "31.200001     1\n",
       "30.000000     1\n",
       "31.600000     1\n",
       "34.112770     1\n",
       "67.699997     1\n",
       "69.000000     1\n",
       "72.000000     1\n",
       "30.700001     1\n",
       "31.197943     1\n",
       "30.982224     1\n",
       "35.056068     1\n",
       "35.800674     1\n",
       "32.922970     1\n",
       "28.137455     1\n",
       "35.412819     1\n",
       "37.228649     1\n",
       "38.382877     1\n",
       "29.761650     1\n",
       "33.991184     1\n",
       "29.909727     1\n",
       "34.902302     1\n",
       "30.777685     1\n",
       "37.869205     1\n",
       "29.152836     1\n",
       "33.403309     1\n",
       "39.561897     1\n",
       "38.131908     1\n",
       "33.997829     1\n",
       "37.232315     1\n",
       "Name: % normal, dtype: int64"
      ]
     },
     "execution_count": 18,
     "metadata": {},
     "output_type": "execute_result"
    }
   ],
   "source": [
    "# Check the % Normal column\n",
    "df_BMI['% normal'].value_counts(dropna = False)"
   ]
  },
  {
   "cell_type": "code",
   "execution_count": 19,
   "id": "495357ab-8846-45c2-bb56-927c0310dd44",
   "metadata": {
    "scrolled": true,
    "tags": []
   },
   "outputs": [
    {
     "data": {
      "text/plain": [
       "NaN          11\n",
       "32.895573     2\n",
       "35.221909     2\n",
       "35.376129     2\n",
       "34.843193     2\n",
       "36.603191     2\n",
       "35.628948     2\n",
       "38.148540     2\n",
       "35.644630     2\n",
       "36.560612     2\n",
       "13.000000     2\n",
       "35.207588     1\n",
       "36.053944     1\n",
       "14.206895     1\n",
       "37.700001     1\n",
       "37.299999     1\n",
       "37.599998     1\n",
       "36.400002     1\n",
       "37.400002     1\n",
       "14.300000     1\n",
       "12.900000     1\n",
       "12.700000     1\n",
       "15.300000     1\n",
       "12.800000     1\n",
       "35.700001     1\n",
       "38.000000     1\n",
       "36.900002     1\n",
       "36.752132     1\n",
       "37.714027     1\n",
       "35.168354     1\n",
       "34.611942     1\n",
       "12.000000     1\n",
       "32.244137     1\n",
       "35.576370     1\n",
       "38.279053     1\n",
       "34.390793     1\n",
       "33.958130     1\n",
       "35.628075     1\n",
       "37.547459     1\n",
       "36.471970     1\n",
       "36.133995     1\n",
       "38.606152     1\n",
       "36.218113     1\n",
       "14.000000     1\n",
       "35.072762     1\n",
       "35.303497     1\n",
       "35.089622     1\n",
       "35.456707     1\n",
       "33.589542     1\n",
       "38.291931     1\n",
       "34.280380     1\n",
       "37.882912     1\n",
       "36.521912     1\n",
       "35.548534     1\n",
       "36.081966     1\n",
       "Name: % overweight, dtype: int64"
      ]
     },
     "execution_count": 19,
     "metadata": {},
     "output_type": "execute_result"
    }
   ],
   "source": [
    "# Check the % Overweight column\n",
    "df_BMI['% overweight'].value_counts(dropna = False)"
   ]
  },
  {
   "cell_type": "code",
   "execution_count": 20,
   "id": "61b3a7c6-1235-4b92-a376-b05d7e9dac41",
   "metadata": {
    "scrolled": true,
    "tags": []
   },
   "outputs": [
    {
     "data": {
      "text/plain": [
       "NaN          16\n",
       "29.125923     2\n",
       "24.147558     2\n",
       "22.125231     2\n",
       "25.921568     2\n",
       "25.473261     2\n",
       "28.515766     2\n",
       "24.348927     2\n",
       "25.749516     2\n",
       "24.211533     2\n",
       "5.700000      1\n",
       "7.100000      1\n",
       "24.032179     1\n",
       "24.205032     1\n",
       "23.663305     1\n",
       "26.183777     1\n",
       "22.722157     1\n",
       "20.500000     1\n",
       "20.600000     1\n",
       "21.900000     1\n",
       "26.856356     1\n",
       "26.200001     1\n",
       "26.000000     1\n",
       "27.900000     1\n",
       "26.700001     1\n",
       "28.733898     1\n",
       "6.700000      1\n",
       "6.400000      1\n",
       "5.900000      1\n",
       "27.400000     1\n",
       "29.483562     1\n",
       "26.739931     1\n",
       "27.720881     1\n",
       "24.562450     1\n",
       "26.669912     1\n",
       "29.294754     1\n",
       "22.697529     1\n",
       "21.314987     1\n",
       "20.733669     1\n",
       "26.602253     1\n",
       "28.022217     1\n",
       "29.228308     1\n",
       "24.079330     1\n",
       "29.721600     1\n",
       "23.190125     1\n",
       "29.545942     1\n",
       "24.607946     1\n",
       "20.706484     1\n",
       "20.633017     1\n",
       "24.449558     1\n",
       "22.229643     1\n",
       "Name: % obese, dtype: int64"
      ]
     },
     "execution_count": 20,
     "metadata": {},
     "output_type": "execute_result"
    }
   ],
   "source": [
    "# Check the '% Obese' column\n",
    "df_BMI['% obese'].value_counts(dropna = False)"
   ]
  },
  {
   "cell_type": "code",
   "execution_count": 21,
   "id": "2bbb95a1-4105-4b1f-a696-de20ed98ff1b",
   "metadata": {
    "scrolled": true,
    "tags": []
   },
   "outputs": [
    {
     "data": {
      "text/plain": [
       "NaN         16\n",
       "4.272084     2\n",
       "4.635883     2\n",
       "2.122008     2\n",
       "3.853464     2\n",
       "3.723078     2\n",
       "3.447460     2\n",
       "3.274724     2\n",
       "3.503074     2\n",
       "3.022329     2\n",
       "9.400000     1\n",
       "7.100000     1\n",
       "2.346568     1\n",
       "2.800112     1\n",
       "2.735000     1\n",
       "2.889428     1\n",
       "2.228921     1\n",
       "2.200000     1\n",
       "2.300000     1\n",
       "2.100000     1\n",
       "2.901735     1\n",
       "4.400000     1\n",
       "3.800000     1\n",
       "3.400000     1\n",
       "4.000000     1\n",
       "3.553999     1\n",
       "9.700000     1\n",
       "9.900000     1\n",
       "8.300000     1\n",
       "3.300000     1\n",
       "4.491828     1\n",
       "3.438074     1\n",
       "3.158000     1\n",
       "4.498878     1\n",
       "4.113216     1\n",
       "4.282002     1\n",
       "3.033584     1\n",
       "2.126483     1\n",
       "3.023532     1\n",
       "3.454734     1\n",
       "3.314329     1\n",
       "4.670946     1\n",
       "3.109795     1\n",
       "3.526368     1\n",
       "2.308801     1\n",
       "5.661376     1\n",
       "2.348123     1\n",
       "3.209679     1\n",
       "1.927879     1\n",
       "2.911804     1\n",
       "2.725303     1\n",
       "Name: % morbidly obese, dtype: int64"
      ]
     },
     "execution_count": 21,
     "metadata": {},
     "output_type": "execute_result"
    }
   ],
   "source": [
    "# Check the % Morbidly obese column\n",
    "df_BMI['% morbidly obese'].value_counts(dropna = False)"
   ]
  },
  {
   "cell_type": "code",
   "execution_count": 22,
   "id": "78465312-3c6e-4ee5-9a02-13bd297577de",
   "metadata": {
    "scrolled": true,
    "tags": []
   },
   "outputs": [
    {
     "data": {
      "text/plain": [
       "64.159569    2\n",
       "62.670609    2\n",
       "65.813202    2\n",
       "63.268280    2\n",
       "28.226059    2\n",
       "            ..\n",
       "28.000000    1\n",
       "68.457054    1\n",
       "64.280792    1\n",
       "68.656929    1\n",
       "61.036911    1\n",
       "Name: % overweight (25+), Length: 63, dtype: int64"
      ]
     },
     "execution_count": 22,
     "metadata": {},
     "output_type": "execute_result"
    }
   ],
   "source": [
    "# Check the % Overweight (25+) column\n",
    "df_BMI['% overweight (25+)'].value_counts(dropna = False)"
   ]
  },
  {
   "cell_type": "code",
   "execution_count": 23,
   "id": "998e219b-a40e-4631-ba4d-0c78268a8612",
   "metadata": {
    "scrolled": true,
    "tags": []
   },
   "outputs": [
    {
     "data": {
      "text/plain": [
       "24.247238    2\n",
       "29.196339    2\n",
       "29.252590    2\n",
       "27.623650    2\n",
       "31.963226    2\n",
       "            ..\n",
       "30.178005    1\n",
       "17.000000    1\n",
       "29.073204    1\n",
       "34.099758    1\n",
       "24.954947    1\n",
       "Name: % obese (30+), Length: 63, dtype: int64"
      ]
     },
     "execution_count": 23,
     "metadata": {},
     "output_type": "execute_result"
    }
   ],
   "source": [
    "# Check the % Obese (30+) column\n",
    "df_BMI['% obese (30+)'].value_counts(dropna = False)"
   ]
  },
  {
   "cell_type": "code",
   "execution_count": 24,
   "id": "d673cfac-70b2-4f22-ac9e-e739c87a036e",
   "metadata": {},
   "outputs": [
    {
     "data": {
      "text/plain": [
       "2019    15\n",
       "2018    15\n",
       "2017    15\n",
       "2016    15\n",
       "2015    15\n",
       "Name: year, dtype: int64"
      ]
     },
     "execution_count": 24,
     "metadata": {},
     "output_type": "execute_result"
    }
   ],
   "source": [
    "# Check the Year column\n",
    "df_BMI['year'].value_counts(dropna = False)"
   ]
  },
  {
   "cell_type": "code",
   "execution_count": 25,
   "id": "02580646-f264-4af7-a5b8-522b230991d2",
   "metadata": {},
   "outputs": [
    {
     "data": {
      "text/plain": [
       "16+      65\n",
       "2to15    10\n",
       "Name: age_group, dtype: int64"
      ]
     },
     "execution_count": 25,
     "metadata": {},
     "output_type": "execute_result"
    }
   ],
   "source": [
    "# Check the Age_Group column\n",
    "df_BMI['age_group'].value_counts(dropna = False)"
   ]
  },
  {
   "cell_type": "markdown",
   "id": "9e454107-a403-47d7-a431-be11fd6b65b7",
   "metadata": {
    "tags": []
   },
   "source": [
    "## 04. Descriptive Statistics"
   ]
  },
  {
   "cell_type": "code",
   "execution_count": 26,
   "id": "f04c69a4-db6d-4150-b779-0f6022bee22a",
   "metadata": {},
   "outputs": [
    {
     "data": {
      "text/html": [
       "<div>\n",
       "<style scoped>\n",
       "    .dataframe tbody tr th:only-of-type {\n",
       "        vertical-align: middle;\n",
       "    }\n",
       "\n",
       "    .dataframe tbody tr th {\n",
       "        vertical-align: top;\n",
       "    }\n",
       "\n",
       "    .dataframe thead th {\n",
       "        text-align: right;\n",
       "    }\n",
       "</style>\n",
       "<table border=\"1\" class=\"dataframe\">\n",
       "  <thead>\n",
       "    <tr style=\"text-align: right;\">\n",
       "      <th></th>\n",
       "      <th>% underweight</th>\n",
       "      <th>% normal</th>\n",
       "      <th>% overweight</th>\n",
       "      <th>% obese</th>\n",
       "      <th>% morbidly obese</th>\n",
       "      <th>% overweight (25+)</th>\n",
       "      <th>% obese (30+)</th>\n",
       "      <th>year</th>\n",
       "    </tr>\n",
       "  </thead>\n",
       "  <tbody>\n",
       "    <tr>\n",
       "      <th>count</th>\n",
       "      <td>59.000000</td>\n",
       "      <td>59.000000</td>\n",
       "      <td>64.000000</td>\n",
       "      <td>59.000000</td>\n",
       "      <td>59.000000</td>\n",
       "      <td>73.000000</td>\n",
       "      <td>73.000000</td>\n",
       "      <td>75.000000</td>\n",
       "    </tr>\n",
       "    <tr>\n",
       "      <th>mean</th>\n",
       "      <td>1.608600</td>\n",
       "      <td>37.107029</td>\n",
       "      <td>32.448978</td>\n",
       "      <td>23.675753</td>\n",
       "      <td>3.803368</td>\n",
       "      <td>59.562466</td>\n",
       "      <td>26.644894</td>\n",
       "      <td>2017.000000</td>\n",
       "    </tr>\n",
       "    <tr>\n",
       "      <th>std</th>\n",
       "      <td>0.549565</td>\n",
       "      <td>10.531501</td>\n",
       "      <td>8.368851</td>\n",
       "      <td>5.908204</td>\n",
       "      <td>1.772437</td>\n",
       "      <td>12.742699</td>\n",
       "      <td>5.507711</td>\n",
       "      <td>1.423737</td>\n",
       "    </tr>\n",
       "    <tr>\n",
       "      <th>min</th>\n",
       "      <td>0.560719</td>\n",
       "      <td>28.041981</td>\n",
       "      <td>12.000000</td>\n",
       "      <td>5.700000</td>\n",
       "      <td>1.927879</td>\n",
       "      <td>26.900000</td>\n",
       "      <td>14.019164</td>\n",
       "      <td>2015.000000</td>\n",
       "    </tr>\n",
       "    <tr>\n",
       "      <th>25%</th>\n",
       "      <td>1.200000</td>\n",
       "      <td>31.400002</td>\n",
       "      <td>34.363190</td>\n",
       "      <td>22.463585</td>\n",
       "      <td>2.895581</td>\n",
       "      <td>59.913441</td>\n",
       "      <td>24.000000</td>\n",
       "      <td>2016.000000</td>\n",
       "    </tr>\n",
       "    <tr>\n",
       "      <th>50%</th>\n",
       "      <td>1.600000</td>\n",
       "      <td>34.795963</td>\n",
       "      <td>35.602222</td>\n",
       "      <td>24.562450</td>\n",
       "      <td>3.438074</td>\n",
       "      <td>63.452122</td>\n",
       "      <td>27.623650</td>\n",
       "      <td>2017.000000</td>\n",
       "    </tr>\n",
       "    <tr>\n",
       "      <th>75%</th>\n",
       "      <td>1.978410</td>\n",
       "      <td>37.266159</td>\n",
       "      <td>36.603191</td>\n",
       "      <td>26.798143</td>\n",
       "      <td>4.192650</td>\n",
       "      <td>67.000000</td>\n",
       "      <td>30.502756</td>\n",
       "      <td>2018.000000</td>\n",
       "    </tr>\n",
       "    <tr>\n",
       "      <th>max</th>\n",
       "      <td>2.857910</td>\n",
       "      <td>72.000000</td>\n",
       "      <td>38.606152</td>\n",
       "      <td>29.721600</td>\n",
       "      <td>9.900000</td>\n",
       "      <td>70.111771</td>\n",
       "      <td>35.207317</td>\n",
       "      <td>2019.000000</td>\n",
       "    </tr>\n",
       "  </tbody>\n",
       "</table>\n",
       "</div>"
      ],
      "text/plain": [
       "       % underweight   % normal  % overweight    % obese  % morbidly obese  \\\n",
       "count      59.000000  59.000000     64.000000  59.000000         59.000000   \n",
       "mean        1.608600  37.107029     32.448978  23.675753          3.803368   \n",
       "std         0.549565  10.531501      8.368851   5.908204          1.772437   \n",
       "min         0.560719  28.041981     12.000000   5.700000          1.927879   \n",
       "25%         1.200000  31.400002     34.363190  22.463585          2.895581   \n",
       "50%         1.600000  34.795963     35.602222  24.562450          3.438074   \n",
       "75%         1.978410  37.266159     36.603191  26.798143          4.192650   \n",
       "max         2.857910  72.000000     38.606152  29.721600          9.900000   \n",
       "\n",
       "       % overweight (25+)  % obese (30+)         year  \n",
       "count           73.000000      73.000000    75.000000  \n",
       "mean            59.562466      26.644894  2017.000000  \n",
       "std             12.742699       5.507711     1.423737  \n",
       "min             26.900000      14.019164  2015.000000  \n",
       "25%             59.913441      24.000000  2016.000000  \n",
       "50%             63.452122      27.623650  2017.000000  \n",
       "75%             67.000000      30.502756  2018.000000  \n",
       "max             70.111771      35.207317  2019.000000  "
      ]
     },
     "execution_count": 26,
     "metadata": {},
     "output_type": "execute_result"
    }
   ],
   "source": [
    "# Describe the dataframe\n",
    "df_BMI.describe()"
   ]
  },
  {
   "cell_type": "code",
   "execution_count": 27,
   "id": "36926198-8a22-4f26-90ff-655d74dfebc2",
   "metadata": {},
   "outputs": [
    {
     "data": {
      "text/html": [
       "<div>\n",
       "<style scoped>\n",
       "    .dataframe tbody tr th:only-of-type {\n",
       "        vertical-align: middle;\n",
       "    }\n",
       "\n",
       "    .dataframe tbody tr th {\n",
       "        vertical-align: top;\n",
       "    }\n",
       "\n",
       "    .dataframe thead th {\n",
       "        text-align: right;\n",
       "    }\n",
       "</style>\n",
       "<table border=\"1\" class=\"dataframe\">\n",
       "  <thead>\n",
       "    <tr style=\"text-align: right;\">\n",
       "      <th></th>\n",
       "      <th>age_group</th>\n",
       "      <th>16+</th>\n",
       "      <th>2to15</th>\n",
       "    </tr>\n",
       "  </thead>\n",
       "  <tbody>\n",
       "    <tr>\n",
       "      <th rowspan=\"5\" valign=\"top\">% underweight</th>\n",
       "      <th>count</th>\n",
       "      <td>54.000000</td>\n",
       "      <td>5.000000</td>\n",
       "    </tr>\n",
       "    <tr>\n",
       "      <th>mean</th>\n",
       "      <td>1.639027</td>\n",
       "      <td>1.280000</td>\n",
       "    </tr>\n",
       "    <tr>\n",
       "      <th>std</th>\n",
       "      <td>0.555918</td>\n",
       "      <td>0.370135</td>\n",
       "    </tr>\n",
       "    <tr>\n",
       "      <th>min</th>\n",
       "      <td>0.560719</td>\n",
       "      <td>0.800000</td>\n",
       "    </tr>\n",
       "    <tr>\n",
       "      <th>25%</th>\n",
       "      <td>1.260680</td>\n",
       "      <td>1.100000</td>\n",
       "    </tr>\n",
       "    <tr>\n",
       "      <th>...</th>\n",
       "      <th>...</th>\n",
       "      <td>...</td>\n",
       "      <td>...</td>\n",
       "    </tr>\n",
       "    <tr>\n",
       "      <th rowspan=\"5\" valign=\"top\">year</th>\n",
       "      <th>min</th>\n",
       "      <td>2015.000000</td>\n",
       "      <td>2015.000000</td>\n",
       "    </tr>\n",
       "    <tr>\n",
       "      <th>25%</th>\n",
       "      <td>2016.000000</td>\n",
       "      <td>2016.000000</td>\n",
       "    </tr>\n",
       "    <tr>\n",
       "      <th>50%</th>\n",
       "      <td>2017.000000</td>\n",
       "      <td>2017.000000</td>\n",
       "    </tr>\n",
       "    <tr>\n",
       "      <th>75%</th>\n",
       "      <td>2018.000000</td>\n",
       "      <td>2018.000000</td>\n",
       "    </tr>\n",
       "    <tr>\n",
       "      <th>max</th>\n",
       "      <td>2019.000000</td>\n",
       "      <td>2019.000000</td>\n",
       "    </tr>\n",
       "  </tbody>\n",
       "</table>\n",
       "<p>64 rows × 2 columns</p>\n",
       "</div>"
      ],
      "text/plain": [
       "age_group                    16+        2to15\n",
       "% underweight count    54.000000     5.000000\n",
       "              mean      1.639027     1.280000\n",
       "              std       0.555918     0.370135\n",
       "              min       0.560719     0.800000\n",
       "              25%       1.260680     1.100000\n",
       "...                          ...          ...\n",
       "year          min    2015.000000  2015.000000\n",
       "              25%    2016.000000  2016.000000\n",
       "              50%    2017.000000  2017.000000\n",
       "              75%    2018.000000  2018.000000\n",
       "              max    2019.000000  2019.000000\n",
       "\n",
       "[64 rows x 2 columns]"
      ]
     },
     "execution_count": 27,
     "metadata": {},
     "output_type": "execute_result"
    }
   ],
   "source": [
    "# Describe the dataframe grouped by age_group\n",
    "df_BMI_age = df_BMI.groupby('age_group').describe()\n",
    "pd.set_option('display.max_columns', 100)\n",
    "df_BMI_age.T"
   ]
  },
  {
   "cell_type": "code",
   "execution_count": 28,
   "id": "f82881e7-9439-4410-81b2-d6ed90274607",
   "metadata": {},
   "outputs": [
    {
     "data": {
      "text/plain": [
       "<AxesSubplot:ylabel='Frequency'>"
      ]
     },
     "execution_count": 28,
     "metadata": {},
     "output_type": "execute_result"
    },
    {
     "data": {
      "image/png": "[encoded data removed]",
      "text/plain": [
       "<Figure size 432x288 with 1 Axes>"
      ]
     },
     "metadata": {
      "needs_background": "light"
     },
     "output_type": "display_data"
    }
   ],
   "source": [
    "# Create histogram of the % Underweight column\n",
    "df_BMI['% underweight'].plot.hist(bins = 12)"
   ]
  },
  {
   "cell_type": "code",
   "execution_count": 29,
   "id": "353df6b9-0b23-4c38-8a5f-1f5af5c53c04",
   "metadata": {},
   "outputs": [
    {
     "data": {
      "text/plain": [
       "<AxesSubplot:xlabel='% underweight', ylabel='% underweight'>"
      ]
     },
     "execution_count": 29,
     "metadata": {},
     "output_type": "execute_result"
    },
    {
     "data": {
      "image/png": "[encoded data removed]",
      "text/plain": [
       "<Figure size 432x288 with 1 Axes>"
      ]
     },
     "metadata": {
      "needs_background": "light"
     },
     "output_type": "display_data"
    }
   ],
   "source": [
    "# Create a scatterplot of the % Underweight column against itself to reveal if there are outliers\n",
    "sns.scatterplot(x = '% underweight', y = '% underweight',data = df_BMI)"
   ]
  },
  {
   "cell_type": "code",
   "execution_count": 30,
   "id": "5fd06565-82cc-43c4-aaac-6ab3c7b21794",
   "metadata": {},
   "outputs": [
    {
     "data": {
      "text/plain": [
       "<AxesSubplot:ylabel='Frequency'>"
      ]
     },
     "execution_count": 30,
     "metadata": {},
     "output_type": "execute_result"
    },
    {
     "data": {
      "image/png": "[encoded data removed]",
      "text/plain": [
       "<Figure size 432x288 with 1 Axes>"
      ]
     },
     "metadata": {
      "needs_background": "light"
     },
     "output_type": "display_data"
    }
   ],
   "source": [
    "# Create histogram of the % Normal column\n",
    "df_BMI['% normal'].plot.hist(bins = 10)"
   ]
  },
  {
   "cell_type": "code",
   "execution_count": 31,
   "id": "82d1b1da-26cd-47ce-85b4-41991ff051d8",
   "metadata": {},
   "outputs": [
    {
     "data": {
      "text/plain": [
       "<AxesSubplot:xlabel='% normal', ylabel='% normal'>"
      ]
     },
     "execution_count": 31,
     "metadata": {},
     "output_type": "execute_result"
    },
    {
     "data": {
      "image/png": "[encoded data removed]",
      "text/plain": [
       "<Figure size 432x288 with 1 Axes>"
      ]
     },
     "metadata": {
      "needs_background": "light"
     },
     "output_type": "display_data"
    }
   ],
   "source": [
    "# Create a scatterplot of the % Normal column against itself to reveal if there are outliers\n",
    "sns.scatterplot(x = '% normal', y = '% normal',data = df_BMI)"
   ]
  },
  {
   "cell_type": "markdown",
   "id": "8f9b8654-8e11-474a-ba99-8692c5672d98",
   "metadata": {},
   "source": [
    "The higher values are due to the children's data having a different distribution to the adult data "
   ]
  },
  {
   "cell_type": "code",
   "execution_count": 32,
   "id": "93ae2b96-36df-4317-bae9-82fdd08ac50a",
   "metadata": {},
   "outputs": [
    {
     "data": {
      "text/plain": [
       "<AxesSubplot:ylabel='Frequency'>"
      ]
     },
     "execution_count": 32,
     "metadata": {},
     "output_type": "execute_result"
    },
    {
     "data": {
      "image/png": "[encoded data removed]",
      "text/plain": [
       "<Figure size 432x288 with 1 Axes>"
      ]
     },
     "metadata": {
      "needs_background": "light"
     },
     "output_type": "display_data"
    }
   ],
   "source": [
    "# Create histogram of the % Overweight column\n",
    "df_BMI['% overweight'].plot.hist(bins = 10)"
   ]
  },
  {
   "cell_type": "code",
   "execution_count": 33,
   "id": "db6e65cb-6dba-4dae-8dff-5bef77b57854",
   "metadata": {},
   "outputs": [
    {
     "data": {
      "text/plain": [
       "<AxesSubplot:xlabel='% overweight', ylabel='% overweight'>"
      ]
     },
     "execution_count": 33,
     "metadata": {},
     "output_type": "execute_result"
    },
    {
     "data": {
      "image/png": "[encoded data removed]",
      "text/plain": [
       "<Figure size 432x288 with 1 Axes>"
      ]
     },
     "metadata": {
      "needs_background": "light"
     },
     "output_type": "display_data"
    }
   ],
   "source": [
    "# Create a scatterplot of the % Overweight column against itself to reveal if there are outliers\n",
    "sns.scatterplot(x = '% overweight', y = '% overweight',data = df_BMI)"
   ]
  },
  {
   "cell_type": "markdown",
   "id": "67ab1837-ded5-4afd-ba51-5a85333ba9aa",
   "metadata": {},
   "source": [
    "The lower values are due to the children's data having a different distribution to the adult data "
   ]
  },
  {
   "cell_type": "code",
   "execution_count": 34,
   "id": "68d853fd-89b5-417a-b619-5c7fcb096fb4",
   "metadata": {},
   "outputs": [
    {
     "data": {
      "text/plain": [
       "<AxesSubplot:ylabel='Frequency'>"
      ]
     },
     "execution_count": 34,
     "metadata": {},
     "output_type": "execute_result"
    },
    {
     "data": {
      "image/png": "[encoded data removed]",
      "text/plain": [
       "<Figure size 432x288 with 1 Axes>"
      ]
     },
     "metadata": {
      "needs_background": "light"
     },
     "output_type": "display_data"
    }
   ],
   "source": [
    "# Create histogram of the % Obese column\n",
    "df_BMI['% obese'].plot.hist(bins = 10)"
   ]
  },
  {
   "cell_type": "code",
   "execution_count": 35,
   "id": "2913c511-2f98-46e5-9095-56fbd6e6d420",
   "metadata": {},
   "outputs": [
    {
     "data": {
      "text/plain": [
       "<AxesSubplot:xlabel='% obese', ylabel='% obese'>"
      ]
     },
     "execution_count": 35,
     "metadata": {},
     "output_type": "execute_result"
    },
    {
     "data": {
      "image/png": "[encoded data removed]",
      "text/plain": [
       "<Figure size 432x288 with 1 Axes>"
      ]
     },
     "metadata": {
      "needs_background": "light"
     },
     "output_type": "display_data"
    }
   ],
   "source": [
    "# Create a scatterplot of the % Obese column against itself to reveal if there are outliers\n",
    "sns.scatterplot(x = '% obese', y = '% obese',data = df_BMI)"
   ]
  },
  {
   "cell_type": "markdown",
   "id": "3aa93ff2-250e-4037-9278-da8984fc4e72",
   "metadata": {},
   "source": [
    "The lower values are  due to the children's data having a different distribution to the adult data and will be left"
   ]
  },
  {
   "cell_type": "code",
   "execution_count": 36,
   "id": "097d522b-96a3-49c1-9893-ed17400e20df",
   "metadata": {},
   "outputs": [
    {
     "data": {
      "text/plain": [
       "<AxesSubplot:ylabel='Frequency'>"
      ]
     },
     "execution_count": 36,
     "metadata": {},
     "output_type": "execute_result"
    },
    {
     "data": {
      "image/png": "[encoded data removed]",
      "text/plain": [
       "<Figure size 432x288 with 1 Axes>"
      ]
     },
     "metadata": {
      "needs_background": "light"
     },
     "output_type": "display_data"
    }
   ],
   "source": [
    "# Create histogram of the % Morbidly obese  column\n",
    "df_BMI['% morbidly obese'].plot.hist(bins = 10)"
   ]
  },
  {
   "cell_type": "code",
   "execution_count": 37,
   "id": "96c53972-8ad3-45b4-8f36-295c126dff34",
   "metadata": {},
   "outputs": [
    {
     "data": {
      "text/plain": [
       "<AxesSubplot:xlabel='% morbidly obese', ylabel='% morbidly obese'>"
      ]
     },
     "execution_count": 37,
     "metadata": {},
     "output_type": "execute_result"
    },
    {
     "data": {
      "image/png": "[encoded data removed]",
      "text/plain": [
       "<Figure size 432x288 with 1 Axes>"
      ]
     },
     "metadata": {
      "needs_background": "light"
     },
     "output_type": "display_data"
    }
   ],
   "source": [
    "# Create a scatterplot of the % Morbidly obese column against itself to reveal if there are outliers\n",
    "sns.scatterplot(x = '% morbidly obese', y = '% morbidly obese',data = df_BMI)"
   ]
  },
  {
   "cell_type": "markdown",
   "id": "39b45c7b-a3f5-4bcb-9c17-950bf7678ed8",
   "metadata": {},
   "source": [
    "The difference in values  is due to the children's data having a different distribution to the adult data"
   ]
  },
  {
   "cell_type": "code",
   "execution_count": 38,
   "id": "3e4645a5-e093-4b0c-a0b4-39ec4c22d7dc",
   "metadata": {},
   "outputs": [
    {
     "data": {
      "text/plain": [
       "<AxesSubplot:ylabel='Frequency'>"
      ]
     },
     "execution_count": 38,
     "metadata": {},
     "output_type": "execute_result"
    },
    {
     "data": {
      "image/png": "[encoded data removed]",
      "text/plain": [
       "<Figure size 432x288 with 1 Axes>"
      ]
     },
     "metadata": {
      "needs_background": "light"
     },
     "output_type": "display_data"
    }
   ],
   "source": [
    "# Create histogram of the % Overweight (25+) column\n",
    "df_BMI['% overweight (25+)'].plot.hist(bins = 10)"
   ]
  },
  {
   "cell_type": "code",
   "execution_count": 39,
   "id": "536ae6d6-b696-4990-a932-6fff9d313491",
   "metadata": {},
   "outputs": [
    {
     "data": {
      "text/plain": [
       "<AxesSubplot:xlabel='% overweight (25+)', ylabel='% overweight (25+)'>"
      ]
     },
     "execution_count": 39,
     "metadata": {},
     "output_type": "execute_result"
    },
    {
     "data": {
      "image/png": "[encoded data removed]",
      "text/plain": [
       "<Figure size 432x288 with 1 Axes>"
      ]
     },
     "metadata": {
      "needs_background": "light"
     },
     "output_type": "display_data"
    }
   ],
   "source": [
    "# Create a scatterplot of the % Overweight (25+) column against itself to reveal if there are outliers\n",
    "sns.scatterplot(x = '% overweight (25+)', y = '% overweight (25+)',data = df_BMI)"
   ]
  },
  {
   "cell_type": "markdown",
   "id": "b46f9c3f-aef3-4bc0-934e-44026a37a1b1",
   "metadata": {},
   "source": [
    "The lower values are due to the children's data having a different distribution to the adult data "
   ]
  },
  {
   "cell_type": "code",
   "execution_count": 40,
   "id": "34350f03-7b2e-4c3c-8062-3dc54f638353",
   "metadata": {},
   "outputs": [
    {
     "data": {
      "text/plain": [
       "<AxesSubplot:ylabel='Frequency'>"
      ]
     },
     "execution_count": 40,
     "metadata": {},
     "output_type": "execute_result"
    },
    {
     "data": {
      "image/png": "[encoded data removed]",
      "text/plain": [
       "<Figure size 432x288 with 1 Axes>"
      ]
     },
     "metadata": {
      "needs_background": "light"
     },
     "output_type": "display_data"
    }
   ],
   "source": [
    "# Create histogram of the % Obese (30+) column\n",
    "df_BMI['% obese (30+)'].plot.hist(bins = 10)"
   ]
  },
  {
   "cell_type": "code",
   "execution_count": 41,
   "id": "a681ff37-9b7b-4295-a103-bd060d33fcbb",
   "metadata": {},
   "outputs": [
    {
     "data": {
      "text/plain": [
       "<AxesSubplot:xlabel='% obese (30+)', ylabel='% obese (30+)'>"
      ]
     },
     "execution_count": 41,
     "metadata": {},
     "output_type": "execute_result"
    },
    {
     "data": {
      "image/png": "[encoded data removed]",
      "text/plain": [
       "<Figure size 432x288 with 1 Axes>"
      ]
     },
     "metadata": {
      "needs_background": "light"
     },
     "output_type": "display_data"
    }
   ],
   "source": [
    "# Create a scatterplot of the % Obese (30+) column against itself to reveal if there are outliers\n",
    "sns.scatterplot(x = '% obese (30+)', y = '% obese (30+)',data = df_BMI)"
   ]
  },
  {
   "cell_type": "markdown",
   "id": "b13f9bc8-5990-4226-b37e-173376c29c29",
   "metadata": {},
   "source": [
    "The lower values are due to the children's data having a different distribution to the adult data"
   ]
  },
  {
   "cell_type": "markdown",
   "id": "13fdf77b-4b83-417f-b8a3-9075fb3a0d18",
   "metadata": {
    "tags": []
   },
   "source": [
    "## 05. Matching the regions with the lcf_analysis data"
   ]
  },
  {
   "cell_type": "markdown",
   "id": "440431a2-e015-4689-8f20-35e7af40e209",
   "metadata": {},
   "source": [
    "**lcf_analysis regions**\n",
    "* 'Eastern', \n",
    "* 'North West and Merseyside', \n",
    "* 'South East', \n",
    "* 'South West',\n",
    "* 'Wales', \n",
    "* 'London', \n",
    "* 'West Midlands', \n",
    "* 'Yorkshire and the Humber',\n",
    "* 'North East', \n",
    "* 'Northern Ireland', \n",
    "* 'East Midlands', \n",
    "* 'Scotland'"
   ]
  },
  {
   "cell_type": "code",
   "execution_count": 42,
   "id": "60be55a1-c19e-47fe-a0e4-2222054816f0",
   "metadata": {},
   "outputs": [
    {
     "data": {
      "text/plain": [
       "array(['North East', 'North West', 'Yorkshire & the Humber',\n",
       "       'East Midlands', 'West Midlands', 'East of England', 'London',\n",
       "       'South East', 'South West ', 'England', 'Scotland', 'Wales',\n",
       "       'Northern Ireland'], dtype=object)"
      ]
     },
     "execution_count": 42,
     "metadata": {},
     "output_type": "execute_result"
    }
   ],
   "source": [
    "# View df_BMI['region']\n",
    "df_BMI['region'].unique()"
   ]
  },
  {
   "cell_type": "code",
   "execution_count": 43,
   "id": "ebed5651-6278-45e3-8727-379188e71934",
   "metadata": {},
   "outputs": [
    {
     "data": {
      "text/plain": [
       "array(['North East', 'North West and Merseyside',\n",
       "       'Yorkshire and the Humber', 'East Midlands', 'West Midlands',\n",
       "       'Eastern', 'London', 'South East', 'South West', 'England',\n",
       "       'Scotland', 'Wales', 'Northern Ireland'], dtype=object)"
      ]
     },
     "execution_count": 43,
     "metadata": {},
     "output_type": "execute_result"
    }
   ],
   "source": [
    "# changing region column entries using .replace() and recheck column\n",
    "df_BMI['region'].replace({'East of England' : 'Eastern', 'North West' : 'North West and Merseyside', 'South West ' : 'South West', 'Yorkshire & the Humber' : 'Yorkshire and the Humber'}, inplace = True)\n",
    "df_BMI['region'].unique()"
   ]
  },
  {
   "cell_type": "markdown",
   "id": "183f4abd-7da9-4a25-9ffc-e00cafc6f8fa",
   "metadata": {},
   "source": [
    "## 06. Export the dataframe as BMI.csv"
   ]
  },
  {
   "cell_type": "code",
   "execution_count": 44,
   "id": "94c97080-220d-471e-b7b1-818afcbcd26f",
   "metadata": {},
   "outputs": [],
   "source": [
    "# Export the dataframe into the Prepared_Data folder as BMI.csv\n",
    "df_BMI.to_csv(os.path.join(path, '02_Data','02_2_Prepared_Data', 'BMI.csv'))"
   ]
  }
 ],
 "metadata": {
  "kernelspec": {
   "display_name": "Python 3 (ipykernel)",
   "language": "python",
   "name": "python3"
  },
  "language_info": {
   "codemirror_mode": {
    "name": "ipython",
    "version": 3
   },
   "file_extension": ".py",
   "mimetype": "text/x-python",
   "name": "python",
   "nbconvert_exporter": "python",
   "pygments_lexer": "ipython3",
   "version": "3.9.12"
  }
 },
 "nbformat": 4,
 "nbformat_minor": 5
}
