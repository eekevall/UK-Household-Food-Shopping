{
 "cells": [
  {
   "cell_type": "markdown",
   "id": "8c27e0f9-a596-4f9f-8208-6baf5a38b965",
   "metadata": {},
   "source": [
    "## Living Cost and Food Survey: Machine Learning Regression Analysis"
   ]
  },
  {
   "cell_type": "markdown",
   "id": "6db15f94-6bb4-4510-bec6-9163af2617d1",
   "metadata": {},
   "source": [
    "This script contains the following:\n",
    "    \n",
    "#### 01. Importing Libraries and Data\n",
    "#### 02. Clean the Data for Analysis\n",
    "* Check for Missing Values and Duplicates\n",
    "* Cleaning the required columns for the machine learning regression analysis\n",
    "##### 'W_ultra_processed_food' column\n",
    "##### 'W_unprocessed_food' column\n",
    "##### 'W_disposable_income' column\n",
    "\n",
    "#### 03. Data Preparation for Regression Analysis \n",
    "* Prep 1 - 'W_ultra_processed_food' and 'W_unprocessed_food'\n",
    "* Prep 2 - 'W_ultra_processed_food' and 'W_disposable_income'\n",
    "\n",
    "#### 04. Regression Analysis\n",
    "* Analysis 1 - 'W_ultra_processed_food' and 'W_unprocessed_food'\n",
    "##### Comparing how the regression fits the training set\n",
    "* Analsyis 2 - 'W_ultra_processed_food' and 'W_disposable_income'\n",
    "##### Comparing how the regression fits the training set\n",
    "\n",
    "#### 05. Reflections on the Impact of Possible Data Bias\n",
    "---"
   ]
  },
  {
   "cell_type": "markdown",
   "id": "7944d1c5-6478-4d45-9f8d-9df92fb62b5c",
   "metadata": {
    "tags": []
   },
   "source": [
    "## 01. Importing Libraries and Data"
   ]
  },
  {
   "cell_type": "code",
   "execution_count": 1,
   "id": "11950cde-f230-4b6f-9e68-d84aadadc041",
   "metadata": {},
   "outputs": [],
   "source": [
    "# Import libraries\n",
    "import pandas as pd\n",
    "import numpy as np\n",
    "import seaborn as sns\n",
    "import matplotlib\n",
    "import matplotlib.pyplot as plt\n",
    "import os\n",
    "import sklearn\n",
    "from sklearn.model_selection import train_test_split \n",
    "from sklearn.linear_model import LinearRegression\n",
    "from sklearn.metrics import mean_squared_error, r2_score\n",
    "\n",
    "# To display the charts in the notebook without the need to \"call\" them specifically.\n",
    "%matplotlib inline"
   ]
  },
  {
   "cell_type": "code",
   "execution_count": 2,
   "id": "da45b6e7-0e18-4968-9170-1e494c2cf6f0",
   "metadata": {},
   "outputs": [
    {
     "data": {
      "text/plain": [
       "'/Users/elsaekevall/Jupyter_Notebook/Career_Foundry/09_2022_LCF_Analysis/'"
      ]
     },
     "execution_count": 2,
     "metadata": {},
     "output_type": "execute_result"
    }
   ],
   "source": [
    "# Assign the main project folder path to the variable path\n",
    "path = r'/Users/elsaekevall/Jupyter_Notebook/Career_Foundry/09_2022_LCF_Analysis/'\n",
    "path"
   ]
  },
  {
   "cell_type": "code",
   "execution_count": 3,
   "id": "1d34b266-05a1-4456-87f5-3fa455d0b4a9",
   "metadata": {
    "scrolled": true,
    "tags": []
   },
   "outputs": [
    {
     "data": {
      "text/html": [
       "<div>\n",
       "<style scoped>\n",
       "    .dataframe tbody tr th:only-of-type {\n",
       "        vertical-align: middle;\n",
       "    }\n",
       "\n",
       "    .dataframe tbody tr th {\n",
       "        vertical-align: top;\n",
       "    }\n",
       "\n",
       "    .dataframe thead th {\n",
       "        text-align: right;\n",
       "    }\n",
       "</style>\n",
       "<table border=\"1\" class=\"dataframe\">\n",
       "  <thead>\n",
       "    <tr style=\"text-align: right;\">\n",
       "      <th></th>\n",
       "      <th>unique_id</th>\n",
       "      <th>no_people</th>\n",
       "      <th>household_type</th>\n",
       "      <th>quarter</th>\n",
       "      <th>OECD_disposable_income</th>\n",
       "      <th>region</th>\n",
       "      <th>total_income</th>\n",
       "      <th>OECD_scale</th>\n",
       "      <th>gross_income</th>\n",
       "      <th>weekly_disposable_income</th>\n",
       "      <th>...</th>\n",
       "      <th>W_processed_food</th>\n",
       "      <th>W_ultra_processed_food</th>\n",
       "      <th>%unprocessed_food</th>\n",
       "      <th>%processed_food</th>\n",
       "      <th>%ultra_processed_food</th>\n",
       "      <th>rW_total_food_cost</th>\n",
       "      <th>rW_ultra_processed_food</th>\n",
       "      <th>r%ultra_processed_food</th>\n",
       "      <th>rW_unprocessed_food</th>\n",
       "      <th>r%unprocessed_food</th>\n",
       "    </tr>\n",
       "  </thead>\n",
       "  <tbody>\n",
       "    <tr>\n",
       "      <th>0</th>\n",
       "      <td>1</td>\n",
       "      <td>1</td>\n",
       "      <td>Index</td>\n",
       "      <td>January to March</td>\n",
       "      <td>173.270000</td>\n",
       "      <td>East</td>\n",
       "      <td>179.684359</td>\n",
       "      <td>1.0</td>\n",
       "      <td>173.270</td>\n",
       "      <td>173.2700</td>\n",
       "      <td>...</td>\n",
       "      <td>7.026438</td>\n",
       "      <td>554.833106</td>\n",
       "      <td>37.750485</td>\n",
       "      <td>0.711054</td>\n",
       "      <td>56.147382</td>\n",
       "      <td>1939.661948</td>\n",
       "      <td>617.777123</td>\n",
       "      <td>31.849732</td>\n",
       "      <td>459.560500</td>\n",
       "      <td>23.692814</td>\n",
       "    </tr>\n",
       "    <tr>\n",
       "      <th>1</th>\n",
       "      <td>2</td>\n",
       "      <td>5</td>\n",
       "      <td>Index</td>\n",
       "      <td>July to September</td>\n",
       "      <td>333.667857</td>\n",
       "      <td>North West</td>\n",
       "      <td>1117.340000</td>\n",
       "      <td>2.8</td>\n",
       "      <td>1117.340</td>\n",
       "      <td>934.2700</td>\n",
       "      <td>...</td>\n",
       "      <td>39.149384</td>\n",
       "      <td>789.311802</td>\n",
       "      <td>17.463803</td>\n",
       "      <td>2.114853</td>\n",
       "      <td>42.638686</td>\n",
       "      <td>1759.924158</td>\n",
       "      <td>551.273975</td>\n",
       "      <td>31.323735</td>\n",
       "      <td>416.637546</td>\n",
       "      <td>23.673608</td>\n",
       "    </tr>\n",
       "    <tr>\n",
       "      <th>2</th>\n",
       "      <td>3</td>\n",
       "      <td>2</td>\n",
       "      <td>Index</td>\n",
       "      <td>January to March</td>\n",
       "      <td>678.860000</td>\n",
       "      <td>North West</td>\n",
       "      <td>1269.120000</td>\n",
       "      <td>1.5</td>\n",
       "      <td>732.740</td>\n",
       "      <td>1018.2900</td>\n",
       "      <td>...</td>\n",
       "      <td>133.122488</td>\n",
       "      <td>750.798131</td>\n",
       "      <td>27.755326</td>\n",
       "      <td>4.935850</td>\n",
       "      <td>27.837721</td>\n",
       "      <td>1729.658686</td>\n",
       "      <td>548.335454</td>\n",
       "      <td>31.701946</td>\n",
       "      <td>419.067614</td>\n",
       "      <td>24.228342</td>\n",
       "    </tr>\n",
       "    <tr>\n",
       "      <th>3</th>\n",
       "      <td>4</td>\n",
       "      <td>3</td>\n",
       "      <td>Index</td>\n",
       "      <td>July to September</td>\n",
       "      <td>180.000000</td>\n",
       "      <td>South East</td>\n",
       "      <td>391.475289</td>\n",
       "      <td>1.6</td>\n",
       "      <td>288.000</td>\n",
       "      <td>288.0000</td>\n",
       "      <td>...</td>\n",
       "      <td>61.488466</td>\n",
       "      <td>189.774324</td>\n",
       "      <td>28.595960</td>\n",
       "      <td>7.838384</td>\n",
       "      <td>24.191919</td>\n",
       "      <td>2055.044167</td>\n",
       "      <td>615.104431</td>\n",
       "      <td>29.931446</td>\n",
       "      <td>484.539985</td>\n",
       "      <td>23.578081</td>\n",
       "    </tr>\n",
       "    <tr>\n",
       "      <th>4</th>\n",
       "      <td>5</td>\n",
       "      <td>3</td>\n",
       "      <td>Index</td>\n",
       "      <td>April to June</td>\n",
       "      <td>375.455000</td>\n",
       "      <td>North West</td>\n",
       "      <td>922.302564</td>\n",
       "      <td>2.0</td>\n",
       "      <td>911.700</td>\n",
       "      <td>750.9100</td>\n",
       "      <td>...</td>\n",
       "      <td>65.180202</td>\n",
       "      <td>863.439444</td>\n",
       "      <td>7.527209</td>\n",
       "      <td>2.498936</td>\n",
       "      <td>33.103302</td>\n",
       "      <td>1759.924158</td>\n",
       "      <td>551.273975</td>\n",
       "      <td>31.323735</td>\n",
       "      <td>416.637546</td>\n",
       "      <td>23.673608</td>\n",
       "    </tr>\n",
       "    <tr>\n",
       "      <th>5</th>\n",
       "      <td>6</td>\n",
       "      <td>4</td>\n",
       "      <td>Index</td>\n",
       "      <td>July to September</td>\n",
       "      <td>254.204000</td>\n",
       "      <td>South East</td>\n",
       "      <td>719.120000</td>\n",
       "      <td>2.5</td>\n",
       "      <td>719.120</td>\n",
       "      <td>635.5100</td>\n",
       "      <td>...</td>\n",
       "      <td>92.277452</td>\n",
       "      <td>1133.217217</td>\n",
       "      <td>9.429995</td>\n",
       "      <td>1.106466</td>\n",
       "      <td>13.588004</td>\n",
       "      <td>2055.044167</td>\n",
       "      <td>615.104431</td>\n",
       "      <td>29.931446</td>\n",
       "      <td>484.539985</td>\n",
       "      <td>23.578081</td>\n",
       "    </tr>\n",
       "    <tr>\n",
       "      <th>6</th>\n",
       "      <td>7</td>\n",
       "      <td>1</td>\n",
       "      <td>Index</td>\n",
       "      <td>July to September</td>\n",
       "      <td>430.716400</td>\n",
       "      <td>East</td>\n",
       "      <td>545.270577</td>\n",
       "      <td>1.0</td>\n",
       "      <td>499.770</td>\n",
       "      <td>430.7164</td>\n",
       "      <td>...</td>\n",
       "      <td>13.911332</td>\n",
       "      <td>35.473896</td>\n",
       "      <td>30.412497</td>\n",
       "      <td>4.393459</td>\n",
       "      <td>11.203320</td>\n",
       "      <td>1908.358848</td>\n",
       "      <td>561.560598</td>\n",
       "      <td>29.426363</td>\n",
       "      <td>431.970013</td>\n",
       "      <td>22.635681</td>\n",
       "    </tr>\n",
       "    <tr>\n",
       "      <th>7</th>\n",
       "      <td>8</td>\n",
       "      <td>1</td>\n",
       "      <td>Index</td>\n",
       "      <td>October to December</td>\n",
       "      <td>434.121200</td>\n",
       "      <td>South West</td>\n",
       "      <td>544.506146</td>\n",
       "      <td>1.0</td>\n",
       "      <td>523.950</td>\n",
       "      <td>434.1212</td>\n",
       "      <td>...</td>\n",
       "      <td>44.027604</td>\n",
       "      <td>389.002227</td>\n",
       "      <td>10.708968</td>\n",
       "      <td>5.497652</td>\n",
       "      <td>48.574047</td>\n",
       "      <td>1777.917498</td>\n",
       "      <td>544.943729</td>\n",
       "      <td>30.650676</td>\n",
       "      <td>432.899032</td>\n",
       "      <td>24.348657</td>\n",
       "    </tr>\n",
       "    <tr>\n",
       "      <th>8</th>\n",
       "      <td>9</td>\n",
       "      <td>2</td>\n",
       "      <td>Index</td>\n",
       "      <td>April to June</td>\n",
       "      <td>1004.068000</td>\n",
       "      <td>Wales</td>\n",
       "      <td>1863.292000</td>\n",
       "      <td>1.5</td>\n",
       "      <td>1863.292</td>\n",
       "      <td>1506.1020</td>\n",
       "      <td>...</td>\n",
       "      <td>211.472312</td>\n",
       "      <td>313.551775</td>\n",
       "      <td>26.801342</td>\n",
       "      <td>18.075936</td>\n",
       "      <td>26.801342</td>\n",
       "      <td>1683.241202</td>\n",
       "      <td>568.144770</td>\n",
       "      <td>33.753022</td>\n",
       "      <td>424.157640</td>\n",
       "      <td>25.198863</td>\n",
       "    </tr>\n",
       "    <tr>\n",
       "      <th>9</th>\n",
       "      <td>10</td>\n",
       "      <td>2</td>\n",
       "      <td>Index</td>\n",
       "      <td>April to June</td>\n",
       "      <td>858.526667</td>\n",
       "      <td>London</td>\n",
       "      <td>1726.290000</td>\n",
       "      <td>1.5</td>\n",
       "      <td>0.000</td>\n",
       "      <td>1287.7900</td>\n",
       "      <td>...</td>\n",
       "      <td>66.371239</td>\n",
       "      <td>661.261182</td>\n",
       "      <td>10.939538</td>\n",
       "      <td>0.937142</td>\n",
       "      <td>9.336812</td>\n",
       "      <td>2807.363772</td>\n",
       "      <td>737.556100</td>\n",
       "      <td>26.272196</td>\n",
       "      <td>668.777116</td>\n",
       "      <td>23.822246</td>\n",
       "    </tr>\n",
       "    <tr>\n",
       "      <th>10</th>\n",
       "      <td>11</td>\n",
       "      <td>3</td>\n",
       "      <td>Index</td>\n",
       "      <td>January to March</td>\n",
       "      <td>355.655556</td>\n",
       "      <td>South West</td>\n",
       "      <td>757.910000</td>\n",
       "      <td>1.8</td>\n",
       "      <td>757.910</td>\n",
       "      <td>640.1800</td>\n",
       "      <td>...</td>\n",
       "      <td>108.652742</td>\n",
       "      <td>773.369377</td>\n",
       "      <td>19.008264</td>\n",
       "      <td>3.747241</td>\n",
       "      <td>26.672142</td>\n",
       "      <td>1799.898895</td>\n",
       "      <td>555.257014</td>\n",
       "      <td>30.849345</td>\n",
       "      <td>438.849116</td>\n",
       "      <td>24.381876</td>\n",
       "    </tr>\n",
       "    <tr>\n",
       "      <th>11</th>\n",
       "      <td>12</td>\n",
       "      <td>2</td>\n",
       "      <td>Index</td>\n",
       "      <td>April to June</td>\n",
       "      <td>409.194667</td>\n",
       "      <td>West Midlands</td>\n",
       "      <td>766.252000</td>\n",
       "      <td>1.5</td>\n",
       "      <td>766.252</td>\n",
       "      <td>613.7920</td>\n",
       "      <td>...</td>\n",
       "      <td>369.342055</td>\n",
       "      <td>202.577855</td>\n",
       "      <td>54.529635</td>\n",
       "      <td>25.811240</td>\n",
       "      <td>14.157027</td>\n",
       "      <td>1679.453947</td>\n",
       "      <td>526.961871</td>\n",
       "      <td>31.376977</td>\n",
       "      <td>410.190848</td>\n",
       "      <td>24.424060</td>\n",
       "    </tr>\n",
       "    <tr>\n",
       "      <th>12</th>\n",
       "      <td>13</td>\n",
       "      <td>2</td>\n",
       "      <td>Index</td>\n",
       "      <td>January to March</td>\n",
       "      <td>354.140000</td>\n",
       "      <td>Yorkshire and the Humber</td>\n",
       "      <td>606.050000</td>\n",
       "      <td>1.5</td>\n",
       "      <td>606.050</td>\n",
       "      <td>531.2100</td>\n",
       "      <td>...</td>\n",
       "      <td>11.296576</td>\n",
       "      <td>453.590750</td>\n",
       "      <td>28.101290</td>\n",
       "      <td>0.806146</td>\n",
       "      <td>32.369120</td>\n",
       "      <td>1641.440342</td>\n",
       "      <td>504.900834</td>\n",
       "      <td>30.759621</td>\n",
       "      <td>375.942511</td>\n",
       "      <td>22.903209</td>\n",
       "    </tr>\n",
       "    <tr>\n",
       "      <th>13</th>\n",
       "      <td>14</td>\n",
       "      <td>4</td>\n",
       "      <td>Index</td>\n",
       "      <td>July to September</td>\n",
       "      <td>442.766667</td>\n",
       "      <td>East</td>\n",
       "      <td>1174.920000</td>\n",
       "      <td>2.1</td>\n",
       "      <td>1174.920</td>\n",
       "      <td>929.8100</td>\n",
       "      <td>...</td>\n",
       "      <td>328.650823</td>\n",
       "      <td>243.184154</td>\n",
       "      <td>19.394166</td>\n",
       "      <td>15.194835</td>\n",
       "      <td>11.243371</td>\n",
       "      <td>1908.358848</td>\n",
       "      <td>561.560598</td>\n",
       "      <td>29.426363</td>\n",
       "      <td>431.970013</td>\n",
       "      <td>22.635681</td>\n",
       "    </tr>\n",
       "    <tr>\n",
       "      <th>14</th>\n",
       "      <td>15</td>\n",
       "      <td>3</td>\n",
       "      <td>Index</td>\n",
       "      <td>October to December</td>\n",
       "      <td>359.760000</td>\n",
       "      <td>London</td>\n",
       "      <td>821.101874</td>\n",
       "      <td>2.0</td>\n",
       "      <td>804.150</td>\n",
       "      <td>719.5200</td>\n",
       "      <td>...</td>\n",
       "      <td>109.007296</td>\n",
       "      <td>753.041598</td>\n",
       "      <td>48.778812</td>\n",
       "      <td>3.033888</td>\n",
       "      <td>20.958632</td>\n",
       "      <td>2807.363772</td>\n",
       "      <td>737.556100</td>\n",
       "      <td>26.272196</td>\n",
       "      <td>668.777116</td>\n",
       "      <td>23.822246</td>\n",
       "    </tr>\n",
       "  </tbody>\n",
       "</table>\n",
       "<p>15 rows × 48 columns</p>\n",
       "</div>"
      ],
      "text/plain": [
       "    unique_id  no_people household_type              quarter  \\\n",
       "0           1          1          Index     January to March   \n",
       "1           2          5          Index    July to September   \n",
       "2           3          2          Index     January to March   \n",
       "3           4          3          Index    July to September   \n",
       "4           5          3          Index        April to June   \n",
       "5           6          4          Index    July to September   \n",
       "6           7          1          Index    July to September   \n",
       "7           8          1          Index  October to December   \n",
       "8           9          2          Index        April to June   \n",
       "9          10          2          Index        April to June   \n",
       "10         11          3          Index     January to March   \n",
       "11         12          2          Index        April to June   \n",
       "12         13          2          Index     January to March   \n",
       "13         14          4          Index    July to September   \n",
       "14         15          3          Index  October to December   \n",
       "\n",
       "    OECD_disposable_income                    region  total_income  \\\n",
       "0               173.270000                      East    179.684359   \n",
       "1               333.667857                North West   1117.340000   \n",
       "2               678.860000                North West   1269.120000   \n",
       "3               180.000000                South East    391.475289   \n",
       "4               375.455000                North West    922.302564   \n",
       "5               254.204000                South East    719.120000   \n",
       "6               430.716400                      East    545.270577   \n",
       "7               434.121200                South West    544.506146   \n",
       "8              1004.068000                     Wales   1863.292000   \n",
       "9               858.526667                    London   1726.290000   \n",
       "10              355.655556                South West    757.910000   \n",
       "11              409.194667             West Midlands    766.252000   \n",
       "12              354.140000  Yorkshire and the Humber    606.050000   \n",
       "13              442.766667                      East   1174.920000   \n",
       "14              359.760000                    London    821.101874   \n",
       "\n",
       "    OECD_scale  gross_income  weekly_disposable_income  ... W_processed_food  \\\n",
       "0          1.0       173.270                  173.2700  ...         7.026438   \n",
       "1          2.8      1117.340                  934.2700  ...        39.149384   \n",
       "2          1.5       732.740                 1018.2900  ...       133.122488   \n",
       "3          1.6       288.000                  288.0000  ...        61.488466   \n",
       "4          2.0       911.700                  750.9100  ...        65.180202   \n",
       "5          2.5       719.120                  635.5100  ...        92.277452   \n",
       "6          1.0       499.770                  430.7164  ...        13.911332   \n",
       "7          1.0       523.950                  434.1212  ...        44.027604   \n",
       "8          1.5      1863.292                 1506.1020  ...       211.472312   \n",
       "9          1.5         0.000                 1287.7900  ...        66.371239   \n",
       "10         1.8       757.910                  640.1800  ...       108.652742   \n",
       "11         1.5       766.252                  613.7920  ...       369.342055   \n",
       "12         1.5       606.050                  531.2100  ...        11.296576   \n",
       "13         2.1      1174.920                  929.8100  ...       328.650823   \n",
       "14         2.0       804.150                  719.5200  ...       109.007296   \n",
       "\n",
       "    W_ultra_processed_food  %unprocessed_food  %processed_food  \\\n",
       "0               554.833106          37.750485         0.711054   \n",
       "1               789.311802          17.463803         2.114853   \n",
       "2               750.798131          27.755326         4.935850   \n",
       "3               189.774324          28.595960         7.838384   \n",
       "4               863.439444           7.527209         2.498936   \n",
       "5              1133.217217           9.429995         1.106466   \n",
       "6                35.473896          30.412497         4.393459   \n",
       "7               389.002227          10.708968         5.497652   \n",
       "8               313.551775          26.801342        18.075936   \n",
       "9               661.261182          10.939538         0.937142   \n",
       "10              773.369377          19.008264         3.747241   \n",
       "11              202.577855          54.529635        25.811240   \n",
       "12              453.590750          28.101290         0.806146   \n",
       "13              243.184154          19.394166        15.194835   \n",
       "14              753.041598          48.778812         3.033888   \n",
       "\n",
       "    %ultra_processed_food  rW_total_food_cost  rW_ultra_processed_food  \\\n",
       "0               56.147382         1939.661948               617.777123   \n",
       "1               42.638686         1759.924158               551.273975   \n",
       "2               27.837721         1729.658686               548.335454   \n",
       "3               24.191919         2055.044167               615.104431   \n",
       "4               33.103302         1759.924158               551.273975   \n",
       "5               13.588004         2055.044167               615.104431   \n",
       "6               11.203320         1908.358848               561.560598   \n",
       "7               48.574047         1777.917498               544.943729   \n",
       "8               26.801342         1683.241202               568.144770   \n",
       "9                9.336812         2807.363772               737.556100   \n",
       "10              26.672142         1799.898895               555.257014   \n",
       "11              14.157027         1679.453947               526.961871   \n",
       "12              32.369120         1641.440342               504.900834   \n",
       "13              11.243371         1908.358848               561.560598   \n",
       "14              20.958632         2807.363772               737.556100   \n",
       "\n",
       "   r%ultra_processed_food rW_unprocessed_food  r%unprocessed_food  \n",
       "0               31.849732          459.560500           23.692814  \n",
       "1               31.323735          416.637546           23.673608  \n",
       "2               31.701946          419.067614           24.228342  \n",
       "3               29.931446          484.539985           23.578081  \n",
       "4               31.323735          416.637546           23.673608  \n",
       "5               29.931446          484.539985           23.578081  \n",
       "6               29.426363          431.970013           22.635681  \n",
       "7               30.650676          432.899032           24.348657  \n",
       "8               33.753022          424.157640           25.198863  \n",
       "9               26.272196          668.777116           23.822246  \n",
       "10              30.849345          438.849116           24.381876  \n",
       "11              31.376977          410.190848           24.424060  \n",
       "12              30.759621          375.942511           22.903209  \n",
       "13              29.426363          431.970013           22.635681  \n",
       "14              26.272196          668.777116           23.822246  \n",
       "\n",
       "[15 rows x 48 columns]"
      ]
     },
     "execution_count": 3,
     "metadata": {},
     "output_type": "execute_result"
    }
   ],
   "source": [
    "# Use the os.path.join() function to import the lcf_analysis.pkl file as pandas a dataframe and view first fifteen rows\n",
    "df_lcf_analysis = pd.read_pickle(os.path.join(path, '02_Data', '02_2_Prepared_Data', 'lcf_analysis_regions.pkl'))\n",
    "df_lcf_analysis.head(15)"
   ]
  },
  {
   "cell_type": "code",
   "execution_count": 4,
   "id": "07c8f5c3-fe7d-4863-91ff-10ddd9bf25ac",
   "metadata": {},
   "outputs": [
    {
     "data": {
      "text/plain": [
       "(26149, 48)"
      ]
     },
     "execution_count": 4,
     "metadata": {},
     "output_type": "execute_result"
    }
   ],
   "source": [
    "# View the shape of the dataframe\n",
    "df_lcf_analysis.shape"
   ]
  },
  {
   "cell_type": "code",
   "execution_count": 5,
   "id": "b07ff159-274a-4f2c-88dc-acce30a67aa9",
   "metadata": {},
   "outputs": [
    {
     "data": {
      "text/plain": [
       "Index(['unique_id', 'no_people', 'household_type', 'quarter',\n",
       "       'OECD_disposable_income', 'region', 'total_income', 'OECD_scale',\n",
       "       'gross_income', 'weekly_disposable_income', 'income_source',\n",
       "       'adult_food_cost', 'child_food_cost', 'total_food_cost',\n",
       "       'adult_total_expenditure', 'child_total_expenditure',\n",
       "       'total_expenditure', 'eng_rural_urb', 'scot_rural_urb',\n",
       "       'quarterly_weight', 'year', 'no_children', 'no_adult',\n",
       "       'unprocessed_food', 'processed_food', 'ultra_processed_food',\n",
       "       'no_households', 'W_OECD_disposable_income', 'W_total_income',\n",
       "       'W_gross_income', 'W_disposable_income', 'W_adult_food_cost',\n",
       "       'W_child_food_cost', 'W_total_food_cost', 'W_adult_total_expenditure',\n",
       "       'W_child_total_expenditure', 'W_total_expenditure',\n",
       "       'W_unprocessed_food', 'W_processed_food', 'W_ultra_processed_food',\n",
       "       '%unprocessed_food', '%processed_food', '%ultra_processed_food',\n",
       "       'rW_total_food_cost', 'rW_ultra_processed_food',\n",
       "       'r%ultra_processed_food', 'rW_unprocessed_food', 'r%unprocessed_food'],\n",
       "      dtype='object')"
      ]
     },
     "execution_count": 5,
     "metadata": {},
     "output_type": "execute_result"
    }
   ],
   "source": [
    "# View the columns in the dataframe\n",
    "df_lcf_analysis.columns"
   ]
  },
  {
   "cell_type": "markdown",
   "id": "298a1614-70cf-450c-b0f6-431860343f50",
   "metadata": {},
   "source": [
    "---"
   ]
  },
  {
   "cell_type": "markdown",
   "id": "71063b12-a89c-48eb-8aab-ea79a4451a86",
   "metadata": {
    "tags": []
   },
   "source": [
    "## 02. Clean the Data for Analysis"
   ]
  },
  {
   "cell_type": "markdown",
   "id": "6595063e-660d-4613-bef9-83a9e1af8dc9",
   "metadata": {
    "tags": []
   },
   "source": [
    "### Check for Missing Values and Duplicates"
   ]
  },
  {
   "cell_type": "code",
   "execution_count": 6,
   "id": "917e279d-9d59-4be1-8bc9-534af9fd1d4f",
   "metadata": {},
   "outputs": [
    {
     "data": {
      "text/plain": [
       "unique_id                        0\n",
       "no_people                        0\n",
       "household_type                   0\n",
       "quarter                          0\n",
       "OECD_disposable_income           0\n",
       "region                           0\n",
       "total_income                     0\n",
       "OECD_scale                       0\n",
       "gross_income                     0\n",
       "weekly_disposable_income         0\n",
       "income_source                    0\n",
       "adult_food_cost                  0\n",
       "child_food_cost                  0\n",
       "total_food_cost                  0\n",
       "adult_total_expenditure          0\n",
       "child_total_expenditure          0\n",
       "total_expenditure                0\n",
       "eng_rural_urb                 4788\n",
       "scot_rural_urb               23081\n",
       "quarterly_weight                 0\n",
       "year                             0\n",
       "no_children                      0\n",
       "no_adult                         0\n",
       "unprocessed_food                 0\n",
       "processed_food                   0\n",
       "ultra_processed_food             0\n",
       "no_households                    0\n",
       "W_OECD_disposable_income         0\n",
       "W_total_income                   0\n",
       "W_gross_income                   0\n",
       "W_disposable_income              0\n",
       "W_adult_food_cost                0\n",
       "W_child_food_cost                0\n",
       "W_total_food_cost                0\n",
       "W_adult_total_expenditure        0\n",
       "W_child_total_expenditure        0\n",
       "W_total_expenditure              0\n",
       "W_unprocessed_food               0\n",
       "W_processed_food                 0\n",
       "W_ultra_processed_food           0\n",
       "%unprocessed_food                0\n",
       "%processed_food                  0\n",
       "%ultra_processed_food            0\n",
       "rW_total_food_cost               0\n",
       "rW_ultra_processed_food          0\n",
       "r%ultra_processed_food           0\n",
       "rW_unprocessed_food              0\n",
       "r%unprocessed_food               0\n",
       "dtype: int64"
      ]
     },
     "execution_count": 6,
     "metadata": {},
     "output_type": "execute_result"
    }
   ],
   "source": [
    "# Check for missing values\n",
    "df_lcf_analysis.isnull().sum()"
   ]
  },
  {
   "cell_type": "markdown",
   "id": "2d634f45-7dff-4de9-b7fa-32462063c113",
   "metadata": {},
   "source": [
    "No missing values in the columns for the machine learning regression analysis."
   ]
  },
  {
   "cell_type": "code",
   "execution_count": 7,
   "id": "e6b339b7-81e9-4f6e-9d8f-9db11ba1b76a",
   "metadata": {},
   "outputs": [
    {
     "data": {
      "text/plain": [
       "(26149,)"
      ]
     },
     "execution_count": 7,
     "metadata": {},
     "output_type": "execute_result"
    }
   ],
   "source": [
    "# Check for duplicates\n",
    "dups = df_lcf_analysis.duplicated()\n",
    "dups.shape"
   ]
  },
  {
   "cell_type": "markdown",
   "id": "d4c57198-e3ad-4520-a7ae-bd3b3dea3a52",
   "metadata": {},
   "source": [
    "No duplicates found."
   ]
  },
  {
   "cell_type": "markdown",
   "id": "19052fb5-21ff-4cc2-a260-7a0f67f06e1a",
   "metadata": {
    "tags": []
   },
   "source": [
    "### Cleaning the required columns for the machine learning regression analysis "
   ]
  },
  {
   "cell_type": "markdown",
   "id": "c0373185-c87c-47ac-9995-6d02fcb97766",
   "metadata": {},
   "source": [
    "Based on the exploratory analysis the following columns were chosen for the maching learning regression analysis:  \n",
    "* spending on ultra processed food and spending on unprocessed food (correlation coefficient 0.67)\n",
    "* spending on ultra processed food and disposable income (correlation coefficient 0.56)\n",
    "\n",
    "Although ultra processed food has a strong correlation with these variables, the data is very spread out and therefore a linear relationship is highly unlikely. The strongest correlation for ultra processed food is with total food cost (correlation coefficient 0.81), but the two variables are not independent of each other with ultra-processed foods contributing to the total food cost. "
   ]
  },
  {
   "cell_type": "markdown",
   "id": "6923ae9a-67b2-44b4-948f-fd83d8807c39",
   "metadata": {
    "tags": []
   },
   "source": [
    "#### 'W_ultra_processed_food' column"
   ]
  },
  {
   "cell_type": "code",
   "execution_count": 8,
   "id": "e931b55e-bbcd-45e8-ace6-773777233171",
   "metadata": {},
   "outputs": [
    {
     "data": {
      "text/plain": [
       "<seaborn.axisgrid.FacetGrid at 0x7feccc4a3850>"
      ]
     },
     "execution_count": 8,
     "metadata": {},
     "output_type": "execute_result"
    },
    {
     "data": {
      "image/png": "[encoded data removed]",
      "text/plain": [
       "<Figure size 360x360 with 1 Axes>"
      ]
     },
     "metadata": {
      "needs_background": "light"
     },
     "output_type": "display_data"
    }
   ],
   "source": [
    "# Check for extreme values\n",
    "sns.displot(df_lcf_analysis['W_ultra_processed_food'], bins=25) "
   ]
  },
  {
   "cell_type": "code",
   "execution_count": 9,
   "id": "d7419aab-49c8-4e06-acda-f8b7832dd66b",
   "metadata": {},
   "outputs": [
    {
     "data": {
      "text/plain": [
       "count    26149.000000\n",
       "mean       577.696675\n",
       "std        504.391771\n",
       "min          0.000000\n",
       "25%        253.281650\n",
       "50%        447.703155\n",
       "75%        749.273826\n",
       "max      10198.476554\n",
       "Name: W_ultra_processed_food, dtype: float64"
      ]
     },
     "execution_count": 9,
     "metadata": {},
     "output_type": "execute_result"
    }
   ],
   "source": [
    "# check the mean, median and max values\n",
    "df_lcf_analysis['W_ultra_processed_food'].describe()"
   ]
  },
  {
   "cell_type": "markdown",
   "id": "64756c0d-f7a7-473b-b351-b614fb4fd088",
   "metadata": {},
   "source": [
    "The column contains outliers. Remove values above 4000"
   ]
  },
  {
   "cell_type": "code",
   "execution_count": 10,
   "id": "9b02b9c2-c2c0-4e30-822e-a143ed09e800",
   "metadata": {},
   "outputs": [],
   "source": [
    "# Clean the extreme values from the \"W_ultra_processed_food\" variable\n",
    "df_lcf_analysis_reg = df_lcf_analysis.loc[df_lcf_analysis['W_ultra_processed_food'] <= 4000] "
   ]
  },
  {
   "cell_type": "code",
   "execution_count": 11,
   "id": "293fb851-d3ea-40a1-b6b3-547d7f91f402",
   "metadata": {},
   "outputs": [
    {
     "data": {
      "text/plain": [
       "count    26117.000000\n",
       "mean       571.978782\n",
       "std        474.171266\n",
       "min          0.000000\n",
       "25%        253.031923\n",
       "50%        447.189869\n",
       "75%        747.689388\n",
       "max       3942.232892\n",
       "Name: W_ultra_processed_food, dtype: float64"
      ]
     },
     "execution_count": 11,
     "metadata": {},
     "output_type": "execute_result"
    }
   ],
   "source": [
    "# check the mean, median and max values in the new column\n",
    "df_lcf_analysis_reg['W_ultra_processed_food'].describe()"
   ]
  },
  {
   "cell_type": "markdown",
   "id": "aa79b431-0fb9-4d44-8084-99d6a4ef90e5",
   "metadata": {
    "tags": []
   },
   "source": [
    "#### 'W_unprocessed_food' column"
   ]
  },
  {
   "cell_type": "code",
   "execution_count": 12,
   "id": "1e36d042-e20f-472e-b642-85f281d54273",
   "metadata": {},
   "outputs": [
    {
     "data": {
      "text/plain": [
       "<seaborn.axisgrid.FacetGrid at 0x7feccdc70610>"
      ]
     },
     "execution_count": 12,
     "metadata": {},
     "output_type": "execute_result"
    },
    {
     "data": {
      "image/png": "[encoded data removed]",
      "text/plain": [
       "<Figure size 360x360 with 1 Axes>"
      ]
     },
     "metadata": {
      "needs_background": "light"
     },
     "output_type": "display_data"
    }
   ],
   "source": [
    "# Check for extreme values\n",
    "sns.displot(df_lcf_analysis_reg['W_unprocessed_food'], bins=25) "
   ]
  },
  {
   "cell_type": "code",
   "execution_count": 13,
   "id": "c0d90a45-47d2-47d9-bdae-3e1002e5000a",
   "metadata": {},
   "outputs": [
    {
     "data": {
      "text/plain": [
       "count    26117.000000\n",
       "mean       442.327168\n",
       "std        423.101263\n",
       "min          0.000000\n",
       "25%        171.986864\n",
       "50%        333.549049\n",
       "75%        576.723004\n",
       "max       8650.517599\n",
       "Name: W_unprocessed_food, dtype: float64"
      ]
     },
     "execution_count": 13,
     "metadata": {},
     "output_type": "execute_result"
    }
   ],
   "source": [
    "# check the mean, median and max values\n",
    "df_lcf_analysis_reg['W_unprocessed_food'].describe()"
   ]
  },
  {
   "cell_type": "markdown",
   "id": "6dfeefdb-5867-4e88-826d-04cb0b1ac9d6",
   "metadata": {},
   "source": [
    "The column contains outliers. Remove values above 4000"
   ]
  },
  {
   "cell_type": "code",
   "execution_count": 14,
   "id": "8432d302-88a9-46fd-ba5b-c1203cc44e79",
   "metadata": {},
   "outputs": [],
   "source": [
    "# Clean the extreme values from the \"W_unprocessed_food\" variable\n",
    "df_lcf_analysis_reg1 = df_lcf_analysis_reg.loc[df_lcf_analysis_reg['W_unprocessed_food'] <= 4000] "
   ]
  },
  {
   "cell_type": "code",
   "execution_count": 15,
   "id": "e0bb088b-433b-4e47-9564-64fc81671271",
   "metadata": {},
   "outputs": [
    {
     "data": {
      "text/plain": [
       "count    26099.000000\n",
       "mean       439.154778\n",
       "std        404.576290\n",
       "min          0.000000\n",
       "25%        171.813145\n",
       "50%        333.314430\n",
       "75%        575.895236\n",
       "max       3998.965905\n",
       "Name: W_unprocessed_food, dtype: float64"
      ]
     },
     "execution_count": 15,
     "metadata": {},
     "output_type": "execute_result"
    }
   ],
   "source": [
    "# check the mean, median and max values in the new column\n",
    "df_lcf_analysis_reg1['W_unprocessed_food'].describe()"
   ]
  },
  {
   "cell_type": "markdown",
   "id": "205c16cb-e269-4555-af0b-e6faf5f15b20",
   "metadata": {},
   "source": [
    "#### 'W_disposable_income' column"
   ]
  },
  {
   "cell_type": "code",
   "execution_count": 16,
   "id": "cce9d46f-ceb4-4d76-b188-ba3e5f0d18d2",
   "metadata": {},
   "outputs": [
    {
     "data": {
      "text/plain": [
       "<seaborn.axisgrid.FacetGrid at 0x7feccd3acfa0>"
      ]
     },
     "execution_count": 16,
     "metadata": {},
     "output_type": "execute_result"
    },
    {
     "data": {
      "image/png": "[encoded data removed]",
      "text/plain": [
       "<Figure size 360x360 with 1 Axes>"
      ]
     },
     "metadata": {
      "needs_background": "light"
     },
     "output_type": "display_data"
    }
   ],
   "source": [
    "# Check for extreme values\n",
    "sns.displot(df_lcf_analysis_reg['W_disposable_income'], bins=25) "
   ]
  },
  {
   "cell_type": "code",
   "execution_count": 17,
   "id": "0f56ef48-4174-4715-adea-10c35fe2af69",
   "metadata": {},
   "outputs": [
    {
     "data": {
      "text/plain": [
       "count     26117.000000\n",
       "mean      14146.239454\n",
       "std       12007.088830\n",
       "min      -20493.301791\n",
       "25%        6055.772471\n",
       "50%       10758.209940\n",
       "75%       18383.791420\n",
       "max      163239.936800\n",
       "Name: W_disposable_income, dtype: float64"
      ]
     },
     "execution_count": 17,
     "metadata": {},
     "output_type": "execute_result"
    }
   ],
   "source": [
    "# check the mean, median and max values\n",
    "df_lcf_analysis_reg['W_disposable_income'].describe()"
   ]
  },
  {
   "cell_type": "markdown",
   "id": "a47e7c48-cc25-499d-bf83-52fecd42ce00",
   "metadata": {},
   "source": [
    "Remove the extreme values above 87500 and below -850"
   ]
  },
  {
   "cell_type": "code",
   "execution_count": 18,
   "id": "0a0a712c-760b-447a-98af-71e1aefe7be0",
   "metadata": {},
   "outputs": [],
   "source": [
    "# Clean the extreme values from the \"W_disposable_income\" variable\n",
    "df_lcf_analysis_reg2 = df_lcf_analysis_reg.loc[(df_lcf_analysis_reg['W_disposable_income'] >= -850) & (df_lcf_analysis_reg['W_disposable_income'] <= 87500)] "
   ]
  },
  {
   "cell_type": "code",
   "execution_count": 19,
   "id": "c254c246-d73d-4430-a791-3ef072bc31a1",
   "metadata": {},
   "outputs": [
    {
     "data": {
      "text/plain": [
       "count    26073.000000\n",
       "mean     14059.086866\n",
       "std      11572.459956\n",
       "min       -748.273775\n",
       "25%       6058.232432\n",
       "50%      10753.092664\n",
       "75%      18360.482811\n",
       "max      86347.486880\n",
       "Name: W_disposable_income, dtype: float64"
      ]
     },
     "execution_count": 19,
     "metadata": {},
     "output_type": "execute_result"
    }
   ],
   "source": [
    "# check the mean, median and max values in the new column\n",
    "df_lcf_analysis_reg2['W_disposable_income'].describe()"
   ]
  },
  {
   "cell_type": "markdown",
   "id": "5b246301-eef5-49e6-b9d0-edd2e5c00a5d",
   "metadata": {},
   "source": [
    "___"
   ]
  },
  {
   "cell_type": "markdown",
   "id": "0f6c36a5-077f-4fba-95b6-69afac118764",
   "metadata": {
    "tags": []
   },
   "source": [
    "## 03. Data Preparation for Regression Analysis "
   ]
  },
  {
   "cell_type": "markdown",
   "id": "81645275-f4fd-49b9-8184-774d7f580b51",
   "metadata": {
    "tags": []
   },
   "source": [
    "### Prep 1 - 'W_ultra_processed_food' and 'W_unprocessed_food'"
   ]
  },
  {
   "cell_type": "code",
   "execution_count": 20,
   "id": "6f3443ae-ddf4-48b3-b714-e1578d76267a",
   "metadata": {},
   "outputs": [
    {
     "data": {
      "image/png": "[encoded data removed]",
      "text/plain": [
       "<Figure size 432x288 with 1 Axes>"
      ]
     },
     "metadata": {
      "needs_background": "light"
     },
     "output_type": "display_data"
    }
   ],
   "source": [
    "# Create a scatterplot using matplotlib for another look at how the chosen variables plot against each other.\n",
    "\n",
    "df_lcf_analysis_reg1.plot(x = 'W_unprocessed_food', y = 'W_ultra_processed_food', style = 'o') \n",
    "plt.title('Spending on Ultra-Processed Food vs Unprocessed Food')  \n",
    "plt.xlabel('Spending on Unprocessed Food')  \n",
    "plt.ylabel('Spending on Ultra-Processed Food')  \n",
    "plt.show()"
   ]
  },
  {
   "cell_type": "code",
   "execution_count": 21,
   "id": "98a34844-1919-4dd8-b340-60bb93660c2e",
   "metadata": {},
   "outputs": [],
   "source": [
    "# Reshape the variables into NumPy arrays and put them into separate objects.\n",
    "\n",
    "X1 = df_lcf_analysis_reg1['W_unprocessed_food'].values.reshape(-1,1)\n",
    "y1 = df_lcf_analysis_reg1['W_ultra_processed_food'].values.reshape(-1,1)"
   ]
  },
  {
   "cell_type": "code",
   "execution_count": 22,
   "id": "ce1a9f3e-d938-40d4-a68e-a4184eb23334",
   "metadata": {},
   "outputs": [
    {
     "data": {
      "text/plain": [
       "array([[373.03998839],\n",
       "       [323.28356315],\n",
       "       [748.5758959 ],\n",
       "       ...,\n",
       "       [566.48377469],\n",
       "       [  0.        ],\n",
       "       [702.94934545]])"
      ]
     },
     "execution_count": 22,
     "metadata": {},
     "output_type": "execute_result"
    }
   ],
   "source": [
    "X1"
   ]
  },
  {
   "cell_type": "code",
   "execution_count": 23,
   "id": "94aa8117-507f-43a4-b103-63e4be2db37a",
   "metadata": {},
   "outputs": [
    {
     "data": {
      "text/plain": [
       "array([[554.83310603],\n",
       "       [789.3118016 ],\n",
       "       [750.79813138],\n",
       "       ...,\n",
       "       [191.0494299 ],\n",
       "       [  0.        ],\n",
       "       [761.46443669]])"
      ]
     },
     "execution_count": 23,
     "metadata": {},
     "output_type": "execute_result"
    }
   ],
   "source": [
    "y1"
   ]
  },
  {
   "cell_type": "code",
   "execution_count": 24,
   "id": "fbafe37e-4799-41f6-91c4-5593d7c596a9",
   "metadata": {},
   "outputs": [],
   "source": [
    "# Split data into a training set and a test set.\n",
    "\n",
    "X1_train, X1_test, y1_train, y1_test = train_test_split(X1, y1, test_size=0.3, random_state=0)"
   ]
  },
  {
   "cell_type": "markdown",
   "id": "13c05c73-3006-4813-aaca-524a02b17916",
   "metadata": {
    "tags": []
   },
   "source": [
    "### Prep 2 - 'W_ultra_processed_food' and 'W_disposable_income'"
   ]
  },
  {
   "cell_type": "code",
   "execution_count": 25,
   "id": "b5c34b29-1942-4a84-93ef-3725bad2fea5",
   "metadata": {},
   "outputs": [
    {
     "data": {
      "image/png": "[encoded data removed]",
      "text/plain": [
       "<Figure size 432x288 with 1 Axes>"
      ]
     },
     "metadata": {
      "needs_background": "light"
     },
     "output_type": "display_data"
    }
   ],
   "source": [
    "# Create a scatterplot using matplotlib for another look at how the chosen variables plot against each other.\n",
    "\n",
    "df_lcf_analysis_reg2.plot(x = 'W_disposable_income', y = 'W_ultra_processed_food', style = 'o') \n",
    "plt.title('Spending on Ultra-Processed Food vs Disposable Income')  \n",
    "plt.xlabel('Disposable Income')  \n",
    "plt.ylabel('Spending on Ultra-Processed Food')  \n",
    "plt.show()"
   ]
  },
  {
   "cell_type": "code",
   "execution_count": 26,
   "id": "487e510a-4b62-4ef6-b045-101542462f87",
   "metadata": {},
   "outputs": [],
   "source": [
    "# Reshape the variables into NumPy arrays and put them into separate objects.\n",
    "\n",
    "X2 = df_lcf_analysis_reg2['W_disposable_income'].values.reshape(-1,1)\n",
    "y2 = df_lcf_analysis_reg2['W_ultra_processed_food'].values.reshape(-1,1)"
   ]
  },
  {
   "cell_type": "code",
   "execution_count": 27,
   "id": "46c363d6-9270-4f44-8830-cf9c4a731bd1",
   "metadata": {},
   "outputs": [
    {
     "data": {
      "text/plain": [
       "array([[ 4427.16704034],\n",
       "       [28135.45733992],\n",
       "       [21551.23972387],\n",
       "       ...,\n",
       "       [ 7328.16038442],\n",
       "       [51808.50360105],\n",
       "       [10648.97835386]])"
      ]
     },
     "execution_count": 27,
     "metadata": {},
     "output_type": "execute_result"
    }
   ],
   "source": [
    "X2"
   ]
  },
  {
   "cell_type": "code",
   "execution_count": 28,
   "id": "2062471e-a5b6-438c-abfe-5f84fb0ab3b3",
   "metadata": {},
   "outputs": [
    {
     "data": {
      "text/plain": [
       "array([[554.83310603],\n",
       "       [789.3118016 ],\n",
       "       [750.79813138],\n",
       "       ...,\n",
       "       [191.0494299 ],\n",
       "       [  0.        ],\n",
       "       [761.46443669]])"
      ]
     },
     "execution_count": 28,
     "metadata": {},
     "output_type": "execute_result"
    }
   ],
   "source": [
    "y2"
   ]
  },
  {
   "cell_type": "code",
   "execution_count": 29,
   "id": "d8a2be0c-0d70-4d6b-9685-d5931e78efd5",
   "metadata": {},
   "outputs": [],
   "source": [
    "# Split data into a training set and a test set.\n",
    "\n",
    "X2_train, X2_test, y2_train, y2_test = train_test_split(X2, y2, test_size=0.3, random_state=0)"
   ]
  },
  {
   "cell_type": "markdown",
   "id": "31089615-ab7f-41a0-8362-93bcbb958f20",
   "metadata": {},
   "source": [
    "___"
   ]
  },
  {
   "cell_type": "markdown",
   "id": "d4ecade2-57b6-4977-8b8e-943cb53e7a09",
   "metadata": {},
   "source": [
    "## 04. Regression Analysis"
   ]
  },
  {
   "cell_type": "markdown",
   "id": "ff350580-2449-4971-b343-049c4ff36cee",
   "metadata": {
    "tags": []
   },
   "source": [
    "### Analysis 1 - 'W_ultra_processed_food' and 'W_unprocessed_food'"
   ]
  },
  {
   "cell_type": "markdown",
   "id": "8b8e5cb5-1981-489c-843a-3be12dca3978",
   "metadata": {},
   "source": [
    "Hypothesis: If a housedhold spends more on unprocessed food, they also spend more on processed food."
   ]
  },
  {
   "cell_type": "code",
   "execution_count": 30,
   "id": "04184cc5-51e1-496d-8bb6-8cc920709d81",
   "metadata": {},
   "outputs": [],
   "source": [
    "# Create a regression object.\n",
    "regression = LinearRegression()  "
   ]
  },
  {
   "cell_type": "code",
   "execution_count": 31,
   "id": "712bdcfb-0c58-4276-8054-1f071c51616d",
   "metadata": {},
   "outputs": [
    {
     "data": {
      "text/html": [
       "<style>#sk-container-id-1 {color: black;background-color: white;}#sk-container-id-1 pre{padding: 0;}#sk-container-id-1 div.sk-toggleable {background-color: white;}#sk-container-id-1 label.sk-toggleable__label {cursor: pointer;display: block;width: 100%;margin-bottom: 0;padding: 0.3em;box-sizing: border-box;text-align: center;}#sk-container-id-1 label.sk-toggleable__label-arrow:before {content: \"▸\";float: left;margin-right: 0.25em;color: #696969;}#sk-container-id-1 label.sk-toggleable__label-arrow:hover:before {color: black;}#sk-container-id-1 div.sk-estimator:hover label.sk-toggleable__label-arrow:before {color: black;}#sk-container-id-1 div.sk-toggleable__content {max-height: 0;max-width: 0;overflow: hidden;text-align: left;background-color: #f0f8ff;}#sk-container-id-1 div.sk-toggleable__content pre {margin: 0.2em;color: black;border-radius: 0.25em;background-color: #f0f8ff;}#sk-container-id-1 input.sk-toggleable__control:checked~div.sk-toggleable__content {max-height: 200px;max-width: 100%;overflow: auto;}#sk-container-id-1 input.sk-toggleable__control:checked~label.sk-toggleable__label-arrow:before {content: \"▾\";}#sk-container-id-1 div.sk-estimator input.sk-toggleable__control:checked~label.sk-toggleable__label {background-color: #d4ebff;}#sk-container-id-1 div.sk-label input.sk-toggleable__control:checked~label.sk-toggleable__label {background-color: #d4ebff;}#sk-container-id-1 input.sk-hidden--visually {border: 0;clip: rect(1px 1px 1px 1px);clip: rect(1px, 1px, 1px, 1px);height: 1px;margin: -1px;overflow: hidden;padding: 0;position: absolute;width: 1px;}#sk-container-id-1 div.sk-estimator {font-family: monospace;background-color: #f0f8ff;border: 1px dotted black;border-radius: 0.25em;box-sizing: border-box;margin-bottom: 0.5em;}#sk-container-id-1 div.sk-estimator:hover {background-color: #d4ebff;}#sk-container-id-1 div.sk-parallel-item::after {content: \"\";width: 100%;border-bottom: 1px solid gray;flex-grow: 1;}#sk-container-id-1 div.sk-label:hover label.sk-toggleable__label {background-color: #d4ebff;}#sk-container-id-1 div.sk-serial::before {content: \"\";position: absolute;border-left: 1px solid gray;box-sizing: border-box;top: 0;bottom: 0;left: 50%;z-index: 0;}#sk-container-id-1 div.sk-serial {display: flex;flex-direction: column;align-items: center;background-color: white;padding-right: 0.2em;padding-left: 0.2em;position: relative;}#sk-container-id-1 div.sk-item {position: relative;z-index: 1;}#sk-container-id-1 div.sk-parallel {display: flex;align-items: stretch;justify-content: center;background-color: white;position: relative;}#sk-container-id-1 div.sk-item::before, #sk-container-id-1 div.sk-parallel-item::before {content: \"\";position: absolute;border-left: 1px solid gray;box-sizing: border-box;top: 0;bottom: 0;left: 50%;z-index: -1;}#sk-container-id-1 div.sk-parallel-item {display: flex;flex-direction: column;z-index: 1;position: relative;background-color: white;}#sk-container-id-1 div.sk-parallel-item:first-child::after {align-self: flex-end;width: 50%;}#sk-container-id-1 div.sk-parallel-item:last-child::after {align-self: flex-start;width: 50%;}#sk-container-id-1 div.sk-parallel-item:only-child::after {width: 0;}#sk-container-id-1 div.sk-dashed-wrapped {border: 1px dashed gray;margin: 0 0.4em 0.5em 0.4em;box-sizing: border-box;padding-bottom: 0.4em;background-color: white;}#sk-container-id-1 div.sk-label label {font-family: monospace;font-weight: bold;display: inline-block;line-height: 1.2em;}#sk-container-id-1 div.sk-label-container {text-align: center;}#sk-container-id-1 div.sk-container {/* jupyter's `normalize.less` sets `[hidden] { display: none; }` but bootstrap.min.css set `[hidden] { display: none !important; }` so we also need the `!important` here to be able to override the default hidden behavior on the sphinx rendered scikit-learn.org. See: https://github.com/scikit-learn/scikit-learn/issues/21755 */display: inline-block !important;position: relative;}#sk-container-id-1 div.sk-text-repr-fallback {display: none;}</style><div id=\"sk-container-id-1\" class=\"sk-top-container\"><div class=\"sk-text-repr-fallback\"><pre>LinearRegression()</pre><b>In a Jupyter environment, please rerun this cell to show the HTML representation or trust the notebook. <br />On GitHub, the HTML representation is unable to render, please try loading this page with nbviewer.org.</b></div><div class=\"sk-container\" hidden><div class=\"sk-item\"><div class=\"sk-estimator sk-toggleable\"><input class=\"sk-toggleable__control sk-hidden--visually\" id=\"sk-estimator-id-1\" type=\"checkbox\" checked><label for=\"sk-estimator-id-1\" class=\"sk-toggleable__label sk-toggleable__label-arrow\">LinearRegression</label><div class=\"sk-toggleable__content\"><pre>LinearRegression()</pre></div></div></div></div></div>"
      ],
      "text/plain": [
       "LinearRegression()"
      ]
     },
     "execution_count": 31,
     "metadata": {},
     "output_type": "execute_result"
    }
   ],
   "source": [
    "# Fit the regression object onto the training set.\n",
    "regression.fit(X1_train, y1_train)"
   ]
  },
  {
   "cell_type": "code",
   "execution_count": 32,
   "id": "a8280272-3c2f-4df8-97de-711ba67bf75a",
   "metadata": {},
   "outputs": [],
   "source": [
    "# Predict the values of y using X.\n",
    "y1_predicted = regression.predict(X1_test)"
   ]
  },
  {
   "cell_type": "code",
   "execution_count": 33,
   "id": "aa00180e-4669-46c7-b8fd-ec81eb9dbbf8",
   "metadata": {},
   "outputs": [
    {
     "data": {
      "image/png": "[encoded data removed]",
      "text/plain": [
       "<Figure size 432x288 with 1 Axes>"
      ]
     },
     "metadata": {
      "needs_background": "light"
     },
     "output_type": "display_data"
    }
   ],
   "source": [
    "# Create a plot that shows the regression line from the model on the test set.\n",
    "\n",
    "plot_test = plt\n",
    "plot_test.scatter(X1_test, y1_test, color='gray', s = 15)\n",
    "plot_test.plot(X1_test, y1_predicted, color='red', linewidth =3)\n",
    "plt.title('Spending on Ultra-Processed Food vs Unprocessed Food (Test Set)')  \n",
    "plt.xlabel('Spending on Unprocessed Food')  \n",
    "plt.ylabel('Spending on Ultra-Processed Food')  \n",
    "plt.show()"
   ]
  },
  {
   "cell_type": "markdown",
   "id": "9becd90c-2676-47fb-9fe6-32a0e335920c",
   "metadata": {},
   "source": [
    "**As I expected the line does not cover even half of the data points.**"
   ]
  },
  {
   "cell_type": "code",
   "execution_count": 34,
   "id": "035047d7-c149-4497-aea6-a1125abe77c3",
   "metadata": {},
   "outputs": [],
   "source": [
    "# Create objects that contain the model summary statistics - MSE (mean square error) and R2 score\n",
    "rmse = mean_squared_error(y1_test, y1_predicted) \n",
    "r2 = r2_score(y1_test, y1_predicted) "
   ]
  },
  {
   "cell_type": "code",
   "execution_count": 35,
   "id": "03f3ba18-0ccc-4280-9a53-a51d1389e367",
   "metadata": {},
   "outputs": [
    {
     "name": "stdout",
     "output_type": "stream",
     "text": [
      "Slope: [[0.75200158]]\n",
      "Mean squared error:  119683.42101978305\n",
      "R2 score:  0.442746759374574\n"
     ]
    }
   ],
   "source": [
    "# Print the model summary statistics. This is where you evaluate the performance of the model.\n",
    "print('Slope:' ,regression.coef_)\n",
    "print('Mean squared error: ', rmse)\n",
    "print('R2 score: ', r2)"
   ]
  },
  {
   "cell_type": "markdown",
   "id": "d9e39d31-bb71-43ae-954a-320188486f93",
   "metadata": {},
   "source": [
    "**The 'Slope' shows that the two variables have a positive relationship, as spending on ultra-processed food increases, so does spending on unprocessed food by a degree of 0.75. \n",
    "The 'MSE' is large indicating the regression line isn’t an accurate representation of the data and this can clearly be seen in the graph with most of the points not close to the line. \n",
    "The 'R2' score is 0.44 which means the model is not a good fit (values closer to 1 indicate a good fit).**"
   ]
  },
  {
   "cell_type": "code",
   "execution_count": 36,
   "id": "4c309192-f4bc-4850-9f83-2327db19611d",
   "metadata": {
    "scrolled": true,
    "tags": []
   },
   "outputs": [
    {
     "data": {
      "text/html": [
       "<div>\n",
       "<style scoped>\n",
       "    .dataframe tbody tr th:only-of-type {\n",
       "        vertical-align: middle;\n",
       "    }\n",
       "\n",
       "    .dataframe tbody tr th {\n",
       "        vertical-align: top;\n",
       "    }\n",
       "\n",
       "    .dataframe thead th {\n",
       "        text-align: right;\n",
       "    }\n",
       "</style>\n",
       "<table border=\"1\" class=\"dataframe\">\n",
       "  <thead>\n",
       "    <tr style=\"text-align: right;\">\n",
       "      <th></th>\n",
       "      <th>Actual</th>\n",
       "      <th>Predicted</th>\n",
       "    </tr>\n",
       "  </thead>\n",
       "  <tbody>\n",
       "    <tr>\n",
       "      <th>0</th>\n",
       "      <td>1005.023144</td>\n",
       "      <td>639.729302</td>\n",
       "    </tr>\n",
       "    <tr>\n",
       "      <th>1</th>\n",
       "      <td>428.680997</td>\n",
       "      <td>712.879722</td>\n",
       "    </tr>\n",
       "    <tr>\n",
       "      <th>2</th>\n",
       "      <td>220.912055</td>\n",
       "      <td>716.564510</td>\n",
       "    </tr>\n",
       "    <tr>\n",
       "      <th>3</th>\n",
       "      <td>932.765900</td>\n",
       "      <td>575.445760</td>\n",
       "    </tr>\n",
       "    <tr>\n",
       "      <th>4</th>\n",
       "      <td>595.392002</td>\n",
       "      <td>399.665706</td>\n",
       "    </tr>\n",
       "    <tr>\n",
       "      <th>5</th>\n",
       "      <td>429.284321</td>\n",
       "      <td>400.009464</td>\n",
       "    </tr>\n",
       "    <tr>\n",
       "      <th>6</th>\n",
       "      <td>90.318103</td>\n",
       "      <td>289.526217</td>\n",
       "    </tr>\n",
       "    <tr>\n",
       "      <th>7</th>\n",
       "      <td>811.056941</td>\n",
       "      <td>664.594857</td>\n",
       "    </tr>\n",
       "    <tr>\n",
       "      <th>8</th>\n",
       "      <td>569.839253</td>\n",
       "      <td>685.726562</td>\n",
       "    </tr>\n",
       "    <tr>\n",
       "      <th>9</th>\n",
       "      <td>142.306276</td>\n",
       "      <td>361.825493</td>\n",
       "    </tr>\n",
       "    <tr>\n",
       "      <th>10</th>\n",
       "      <td>1100.263555</td>\n",
       "      <td>887.051993</td>\n",
       "    </tr>\n",
       "    <tr>\n",
       "      <th>11</th>\n",
       "      <td>1265.328742</td>\n",
       "      <td>651.767390</td>\n",
       "    </tr>\n",
       "    <tr>\n",
       "      <th>12</th>\n",
       "      <td>360.476035</td>\n",
       "      <td>387.680256</td>\n",
       "    </tr>\n",
       "    <tr>\n",
       "      <th>13</th>\n",
       "      <td>441.843029</td>\n",
       "      <td>910.204441</td>\n",
       "    </tr>\n",
       "    <tr>\n",
       "      <th>14</th>\n",
       "      <td>410.247487</td>\n",
       "      <td>496.137027</td>\n",
       "    </tr>\n",
       "    <tr>\n",
       "      <th>15</th>\n",
       "      <td>64.755076</td>\n",
       "      <td>276.477799</td>\n",
       "    </tr>\n",
       "    <tr>\n",
       "      <th>16</th>\n",
       "      <td>319.306384</td>\n",
       "      <td>374.942620</td>\n",
       "    </tr>\n",
       "    <tr>\n",
       "      <th>17</th>\n",
       "      <td>120.027621</td>\n",
       "      <td>362.490329</td>\n",
       "    </tr>\n",
       "    <tr>\n",
       "      <th>18</th>\n",
       "      <td>254.968043</td>\n",
       "      <td>259.805607</td>\n",
       "    </tr>\n",
       "    <tr>\n",
       "      <th>19</th>\n",
       "      <td>435.689584</td>\n",
       "      <td>504.163178</td>\n",
       "    </tr>\n",
       "    <tr>\n",
       "      <th>20</th>\n",
       "      <td>192.690455</td>\n",
       "      <td>315.729382</td>\n",
       "    </tr>\n",
       "    <tr>\n",
       "      <th>21</th>\n",
       "      <td>478.544110</td>\n",
       "      <td>602.292487</td>\n",
       "    </tr>\n",
       "    <tr>\n",
       "      <th>22</th>\n",
       "      <td>115.457001</td>\n",
       "      <td>512.984967</td>\n",
       "    </tr>\n",
       "    <tr>\n",
       "      <th>23</th>\n",
       "      <td>1104.019078</td>\n",
       "      <td>720.688384</td>\n",
       "    </tr>\n",
       "    <tr>\n",
       "      <th>24</th>\n",
       "      <td>290.006048</td>\n",
       "      <td>355.914429</td>\n",
       "    </tr>\n",
       "    <tr>\n",
       "      <th>25</th>\n",
       "      <td>240.699098</td>\n",
       "      <td>382.316555</td>\n",
       "    </tr>\n",
       "    <tr>\n",
       "      <th>26</th>\n",
       "      <td>80.343089</td>\n",
       "      <td>286.862278</td>\n",
       "    </tr>\n",
       "    <tr>\n",
       "      <th>27</th>\n",
       "      <td>161.655686</td>\n",
       "      <td>502.259378</td>\n",
       "    </tr>\n",
       "    <tr>\n",
       "      <th>28</th>\n",
       "      <td>326.496079</td>\n",
       "      <td>647.648377</td>\n",
       "    </tr>\n",
       "    <tr>\n",
       "      <th>29</th>\n",
       "      <td>556.423370</td>\n",
       "      <td>828.269520</td>\n",
       "    </tr>\n",
       "  </tbody>\n",
       "</table>\n",
       "</div>"
      ],
      "text/plain": [
       "         Actual   Predicted\n",
       "0   1005.023144  639.729302\n",
       "1    428.680997  712.879722\n",
       "2    220.912055  716.564510\n",
       "3    932.765900  575.445760\n",
       "4    595.392002  399.665706\n",
       "5    429.284321  400.009464\n",
       "6     90.318103  289.526217\n",
       "7    811.056941  664.594857\n",
       "8    569.839253  685.726562\n",
       "9    142.306276  361.825493\n",
       "10  1100.263555  887.051993\n",
       "11  1265.328742  651.767390\n",
       "12   360.476035  387.680256\n",
       "13   441.843029  910.204441\n",
       "14   410.247487  496.137027\n",
       "15    64.755076  276.477799\n",
       "16   319.306384  374.942620\n",
       "17   120.027621  362.490329\n",
       "18   254.968043  259.805607\n",
       "19   435.689584  504.163178\n",
       "20   192.690455  315.729382\n",
       "21   478.544110  602.292487\n",
       "22   115.457001  512.984967\n",
       "23  1104.019078  720.688384\n",
       "24   290.006048  355.914429\n",
       "25   240.699098  382.316555\n",
       "26    80.343089  286.862278\n",
       "27   161.655686  502.259378\n",
       "28   326.496079  647.648377\n",
       "29   556.423370  828.269520"
      ]
     },
     "execution_count": 36,
     "metadata": {},
     "output_type": "execute_result"
    }
   ],
   "source": [
    "# Create a dataframe comparing the actual and predicted values of y.\n",
    "data = pd.DataFrame({'Actual': y1_test.flatten(), 'Predicted': y1_predicted.flatten()})\n",
    "data.head(30)"
   ]
  },
  {
   "cell_type": "markdown",
   "id": "35d20fb4-f0f4-43e2-8e9a-ab2cbb8fd61b",
   "metadata": {},
   "source": [
    "**There are huge differences between the actual and predicted values, which is not surprising given the spread of the data points**"
   ]
  },
  {
   "cell_type": "markdown",
   "id": "329d106b-c26a-4553-9a0d-ba3ce4e079fd",
   "metadata": {},
   "source": [
    "#### Comparing how the regression fits the training set"
   ]
  },
  {
   "cell_type": "code",
   "execution_count": 37,
   "id": "76cc7b67-2c33-4a37-a38d-5a295e067c26",
   "metadata": {},
   "outputs": [],
   "source": [
    "# Predict.\n",
    "y1_predicted_train = regression.predict(X1_train) "
   ]
  },
  {
   "cell_type": "code",
   "execution_count": 38,
   "id": "aff1d98c-95d6-4020-b19c-2ab52e17d67d",
   "metadata": {},
   "outputs": [],
   "source": [
    "# Create objects that contain the model summary statistics - MSE (mean square error) and R2 score\n",
    "rmse = mean_squared_error(y1_train, y1_predicted_train)\n",
    "r2 = r2_score(y1_train, y1_predicted_train)"
   ]
  },
  {
   "cell_type": "code",
   "execution_count": 39,
   "id": "6e2c20c0-8294-4421-8836-d960c0e824b4",
   "metadata": {},
   "outputs": [
    {
     "name": "stdout",
     "output_type": "stream",
     "text": [
      "Slope: [[0.75200158]]\n",
      "Mean squared error:  129493.12115112589\n",
      "R2 score:  0.42306444280472777\n"
     ]
    }
   ],
   "source": [
    "# Print the model summary statistics. This is where you evaluate the performance of the model.\n",
    "print('Slope:' ,regression.coef_)\n",
    "print('Mean squared error: ', rmse)\n",
    "print('R2 score: ', r2)"
   ]
  },
  {
   "cell_type": "code",
   "execution_count": 40,
   "id": "490c5c92-99b5-45a9-97d0-6bed063de330",
   "metadata": {},
   "outputs": [
    {
     "data": {
      "image/png": "[encoded data removed]",
      "text/plain": [
       "<Figure size 432x288 with 1 Axes>"
      ]
     },
     "metadata": {
      "needs_background": "light"
     },
     "output_type": "display_data"
    }
   ],
   "source": [
    "# Visualizing the training set results.\n",
    "\n",
    "plot_test = plt\n",
    "plot_test.scatter(X1_train, y1_train, color='green', s = 15)\n",
    "plot_test.plot(X1_train, y1_predicted_train, color='red', linewidth =3)\n",
    "plt.title('Spending on Ultra-Processed Food vs Unprocessed Food (Train Set)')  \n",
    "plt.xlabel('Spending on Unprocessed Food')  \n",
    "plt.ylabel('Spending on Ultra-Processed Food')  \n",
    "plt.show()"
   ]
  },
  {
   "cell_type": "markdown",
   "id": "bac3ed36-f63d-49a4-b14e-ad0e33e22280",
   "metadata": {},
   "source": [
    "**The model performs reasonably well and is not over fitted with similar values for the Slope: test - 0.75 and train - 0.75, MSE: test - 119683 and train - 129493, R2 score: test - 0.44 and train - 0.42.<br>\n",
    "Removing further outliers would not improve the model**"
   ]
  },
  {
   "cell_type": "markdown",
   "id": "1a56250f-8eaf-4c71-9280-8ef07d33d3f8",
   "metadata": {
    "tags": []
   },
   "source": [
    "### Analysis 2 - 'W_ultra_processed_food' and 'W_disposable_income'"
   ]
  },
  {
   "cell_type": "markdown",
   "id": "4dac8b2c-fe8b-4011-93ce-6f8a1115b8e2",
   "metadata": {},
   "source": [
    "Hypothesis: If a housedhold has a higher disposable income, they spend more on ultra-processed food."
   ]
  },
  {
   "cell_type": "code",
   "execution_count": 41,
   "id": "7c0bf25e-25f6-4a98-a49f-f34f19afb0f5",
   "metadata": {},
   "outputs": [],
   "source": [
    "# Create a regression object.\n",
    "regression = LinearRegression()  # This is the regression object, which will be fit onto the training set."
   ]
  },
  {
   "cell_type": "code",
   "execution_count": 42,
   "id": "309502ec-a3ef-4aad-b676-885fcad3eaa2",
   "metadata": {},
   "outputs": [
    {
     "data": {
      "text/html": [
       "<style>#sk-container-id-2 {color: black;background-color: white;}#sk-container-id-2 pre{padding: 0;}#sk-container-id-2 div.sk-toggleable {background-color: white;}#sk-container-id-2 label.sk-toggleable__label {cursor: pointer;display: block;width: 100%;margin-bottom: 0;padding: 0.3em;box-sizing: border-box;text-align: center;}#sk-container-id-2 label.sk-toggleable__label-arrow:before {content: \"▸\";float: left;margin-right: 0.25em;color: #696969;}#sk-container-id-2 label.sk-toggleable__label-arrow:hover:before {color: black;}#sk-container-id-2 div.sk-estimator:hover label.sk-toggleable__label-arrow:before {color: black;}#sk-container-id-2 div.sk-toggleable__content {max-height: 0;max-width: 0;overflow: hidden;text-align: left;background-color: #f0f8ff;}#sk-container-id-2 div.sk-toggleable__content pre {margin: 0.2em;color: black;border-radius: 0.25em;background-color: #f0f8ff;}#sk-container-id-2 input.sk-toggleable__control:checked~div.sk-toggleable__content {max-height: 200px;max-width: 100%;overflow: auto;}#sk-container-id-2 input.sk-toggleable__control:checked~label.sk-toggleable__label-arrow:before {content: \"▾\";}#sk-container-id-2 div.sk-estimator input.sk-toggleable__control:checked~label.sk-toggleable__label {background-color: #d4ebff;}#sk-container-id-2 div.sk-label input.sk-toggleable__control:checked~label.sk-toggleable__label {background-color: #d4ebff;}#sk-container-id-2 input.sk-hidden--visually {border: 0;clip: rect(1px 1px 1px 1px);clip: rect(1px, 1px, 1px, 1px);height: 1px;margin: -1px;overflow: hidden;padding: 0;position: absolute;width: 1px;}#sk-container-id-2 div.sk-estimator {font-family: monospace;background-color: #f0f8ff;border: 1px dotted black;border-radius: 0.25em;box-sizing: border-box;margin-bottom: 0.5em;}#sk-container-id-2 div.sk-estimator:hover {background-color: #d4ebff;}#sk-container-id-2 div.sk-parallel-item::after {content: \"\";width: 100%;border-bottom: 1px solid gray;flex-grow: 1;}#sk-container-id-2 div.sk-label:hover label.sk-toggleable__label {background-color: #d4ebff;}#sk-container-id-2 div.sk-serial::before {content: \"\";position: absolute;border-left: 1px solid gray;box-sizing: border-box;top: 0;bottom: 0;left: 50%;z-index: 0;}#sk-container-id-2 div.sk-serial {display: flex;flex-direction: column;align-items: center;background-color: white;padding-right: 0.2em;padding-left: 0.2em;position: relative;}#sk-container-id-2 div.sk-item {position: relative;z-index: 1;}#sk-container-id-2 div.sk-parallel {display: flex;align-items: stretch;justify-content: center;background-color: white;position: relative;}#sk-container-id-2 div.sk-item::before, #sk-container-id-2 div.sk-parallel-item::before {content: \"\";position: absolute;border-left: 1px solid gray;box-sizing: border-box;top: 0;bottom: 0;left: 50%;z-index: -1;}#sk-container-id-2 div.sk-parallel-item {display: flex;flex-direction: column;z-index: 1;position: relative;background-color: white;}#sk-container-id-2 div.sk-parallel-item:first-child::after {align-self: flex-end;width: 50%;}#sk-container-id-2 div.sk-parallel-item:last-child::after {align-self: flex-start;width: 50%;}#sk-container-id-2 div.sk-parallel-item:only-child::after {width: 0;}#sk-container-id-2 div.sk-dashed-wrapped {border: 1px dashed gray;margin: 0 0.4em 0.5em 0.4em;box-sizing: border-box;padding-bottom: 0.4em;background-color: white;}#sk-container-id-2 div.sk-label label {font-family: monospace;font-weight: bold;display: inline-block;line-height: 1.2em;}#sk-container-id-2 div.sk-label-container {text-align: center;}#sk-container-id-2 div.sk-container {/* jupyter's `normalize.less` sets `[hidden] { display: none; }` but bootstrap.min.css set `[hidden] { display: none !important; }` so we also need the `!important` here to be able to override the default hidden behavior on the sphinx rendered scikit-learn.org. See: https://github.com/scikit-learn/scikit-learn/issues/21755 */display: inline-block !important;position: relative;}#sk-container-id-2 div.sk-text-repr-fallback {display: none;}</style><div id=\"sk-container-id-2\" class=\"sk-top-container\"><div class=\"sk-text-repr-fallback\"><pre>LinearRegression()</pre><b>In a Jupyter environment, please rerun this cell to show the HTML representation or trust the notebook. <br />On GitHub, the HTML representation is unable to render, please try loading this page with nbviewer.org.</b></div><div class=\"sk-container\" hidden><div class=\"sk-item\"><div class=\"sk-estimator sk-toggleable\"><input class=\"sk-toggleable__control sk-hidden--visually\" id=\"sk-estimator-id-2\" type=\"checkbox\" checked><label for=\"sk-estimator-id-2\" class=\"sk-toggleable__label sk-toggleable__label-arrow\">LinearRegression</label><div class=\"sk-toggleable__content\"><pre>LinearRegression()</pre></div></div></div></div></div>"
      ],
      "text/plain": [
       "LinearRegression()"
      ]
     },
     "execution_count": 42,
     "metadata": {},
     "output_type": "execute_result"
    }
   ],
   "source": [
    "# Fit the regression object onto the training set.\n",
    "regression.fit(X2_train, y2_train)"
   ]
  },
  {
   "cell_type": "code",
   "execution_count": 43,
   "id": "8d0a8f06-fe32-478e-83a9-700c280f454a",
   "metadata": {},
   "outputs": [],
   "source": [
    "# Predict the values of y using X.\n",
    "y2_predicted = regression.predict(X2_test)"
   ]
  },
  {
   "cell_type": "code",
   "execution_count": 44,
   "id": "11973e5c-f98a-437d-9822-2ee29bd6e08a",
   "metadata": {},
   "outputs": [
    {
     "data": {
      "image/png": "[encoded data removed]",
      "text/plain": [
       "<Figure size 432x288 with 1 Axes>"
      ]
     },
     "metadata": {
      "needs_background": "light"
     },
     "output_type": "display_data"
    }
   ],
   "source": [
    "# Create a plot that shows the regression line from the model on the test set.\n",
    "\n",
    "plot_test = plt\n",
    "plot_test.scatter(X2_test, y2_test, color='gray', s = 15)\n",
    "plot_test.plot(X2_test, y2_predicted, color='red', linewidth =3)\n",
    "plot_test.title('Spending on Ultra-Processed Food vs Disposable Income (Test set)')\n",
    "plot_test.xlabel('Disposable Income')\n",
    "plot_test.ylabel('Spending on Ultra-Processed Food')\n",
    "plot_test.show()"
   ]
  },
  {
   "cell_type": "markdown",
   "id": "115b378c-d501-44d1-829c-c9697e289df7",
   "metadata": {},
   "source": [
    "**As I expected the line does not cover even half of the data points.**"
   ]
  },
  {
   "cell_type": "code",
   "execution_count": 45,
   "id": "f0735550-02dc-41cd-ac3e-de63777f3762",
   "metadata": {},
   "outputs": [],
   "source": [
    "# Create objects that contain the model summary statistics - MSE (mean square error) and R2 score\n",
    "rmse = mean_squared_error(y2_test, y2_predicted) \n",
    "r2 = r2_score(y2_test, y2_predicted) "
   ]
  },
  {
   "cell_type": "code",
   "execution_count": 46,
   "id": "94641b94-691e-4dc1-934d-c774682f21c7",
   "metadata": {},
   "outputs": [
    {
     "name": "stdout",
     "output_type": "stream",
     "text": [
      "Slope: [[0.02190137]]\n",
      "Mean squared error:  162500.0387567013\n",
      "R2 score:  0.30385158572975635\n"
     ]
    }
   ],
   "source": [
    "# Print the model summary statistics. This is where you evaluate the performance of the model.\n",
    "print('Slope:' ,regression.coef_)\n",
    "print('Mean squared error: ', rmse)\n",
    "print('R2 score: ', r2)"
   ]
  },
  {
   "cell_type": "markdown",
   "id": "1696dfc1-8a76-497d-a6a4-c386cee7be90",
   "metadata": {},
   "source": [
    "**The 'Slope' shows that the two variables have a positive relationship, as spending on ultra-processed food increases, so does disposable income by a degree of 0.022. \n",
    "The 'MSE' is large indicating the regression line isn’t an accurate representation of the data and this can clearly be seen in the graph with most of the points not close to the line. \n",
    "The 'R2' score is 0.304 which means the model is not a good fit (values closer to 1 indicate a good fit).**"
   ]
  },
  {
   "cell_type": "code",
   "execution_count": 47,
   "id": "97664d9f-f603-46b2-b719-464aea1cc126",
   "metadata": {},
   "outputs": [
    {
     "data": {
      "text/html": [
       "<div>\n",
       "<style scoped>\n",
       "    .dataframe tbody tr th:only-of-type {\n",
       "        vertical-align: middle;\n",
       "    }\n",
       "\n",
       "    .dataframe tbody tr th {\n",
       "        vertical-align: top;\n",
       "    }\n",
       "\n",
       "    .dataframe thead th {\n",
       "        text-align: right;\n",
       "    }\n",
       "</style>\n",
       "<table border=\"1\" class=\"dataframe\">\n",
       "  <thead>\n",
       "    <tr style=\"text-align: right;\">\n",
       "      <th></th>\n",
       "      <th>Actual</th>\n",
       "      <th>Predicted</th>\n",
       "    </tr>\n",
       "  </thead>\n",
       "  <tbody>\n",
       "    <tr>\n",
       "      <th>0</th>\n",
       "      <td>678.667328</td>\n",
       "      <td>725.671088</td>\n",
       "    </tr>\n",
       "    <tr>\n",
       "      <th>1</th>\n",
       "      <td>427.849651</td>\n",
       "      <td>583.019003</td>\n",
       "    </tr>\n",
       "    <tr>\n",
       "      <th>2</th>\n",
       "      <td>612.718125</td>\n",
       "      <td>783.337568</td>\n",
       "    </tr>\n",
       "    <tr>\n",
       "      <th>3</th>\n",
       "      <td>653.130961</td>\n",
       "      <td>346.828736</td>\n",
       "    </tr>\n",
       "    <tr>\n",
       "      <th>4</th>\n",
       "      <td>186.033232</td>\n",
       "      <td>431.212777</td>\n",
       "    </tr>\n",
       "    <tr>\n",
       "      <th>5</th>\n",
       "      <td>1617.911821</td>\n",
       "      <td>1133.785951</td>\n",
       "    </tr>\n",
       "    <tr>\n",
       "      <th>6</th>\n",
       "      <td>414.649524</td>\n",
       "      <td>416.277983</td>\n",
       "    </tr>\n",
       "    <tr>\n",
       "      <th>7</th>\n",
       "      <td>1819.424215</td>\n",
       "      <td>1613.038106</td>\n",
       "    </tr>\n",
       "    <tr>\n",
       "      <th>8</th>\n",
       "      <td>349.459422</td>\n",
       "      <td>1127.581129</td>\n",
       "    </tr>\n",
       "    <tr>\n",
       "      <th>9</th>\n",
       "      <td>189.174174</td>\n",
       "      <td>394.946574</td>\n",
       "    </tr>\n",
       "    <tr>\n",
       "      <th>10</th>\n",
       "      <td>700.825396</td>\n",
       "      <td>534.322052</td>\n",
       "    </tr>\n",
       "    <tr>\n",
       "      <th>11</th>\n",
       "      <td>501.604437</td>\n",
       "      <td>418.249242</td>\n",
       "    </tr>\n",
       "    <tr>\n",
       "      <th>12</th>\n",
       "      <td>548.199472</td>\n",
       "      <td>656.641471</td>\n",
       "    </tr>\n",
       "    <tr>\n",
       "      <th>13</th>\n",
       "      <td>377.504054</td>\n",
       "      <td>429.837581</td>\n",
       "    </tr>\n",
       "    <tr>\n",
       "      <th>14</th>\n",
       "      <td>306.371146</td>\n",
       "      <td>409.166196</td>\n",
       "    </tr>\n",
       "    <tr>\n",
       "      <th>15</th>\n",
       "      <td>764.590382</td>\n",
       "      <td>397.877915</td>\n",
       "    </tr>\n",
       "    <tr>\n",
       "      <th>16</th>\n",
       "      <td>652.424857</td>\n",
       "      <td>1074.436636</td>\n",
       "    </tr>\n",
       "    <tr>\n",
       "      <th>17</th>\n",
       "      <td>1100.714453</td>\n",
       "      <td>429.251900</td>\n",
       "    </tr>\n",
       "    <tr>\n",
       "      <th>18</th>\n",
       "      <td>389.552015</td>\n",
       "      <td>797.575380</td>\n",
       "    </tr>\n",
       "    <tr>\n",
       "      <th>19</th>\n",
       "      <td>257.054446</td>\n",
       "      <td>530.225414</td>\n",
       "    </tr>\n",
       "    <tr>\n",
       "      <th>20</th>\n",
       "      <td>662.841691</td>\n",
       "      <td>390.780757</td>\n",
       "    </tr>\n",
       "    <tr>\n",
       "      <th>21</th>\n",
       "      <td>713.554360</td>\n",
       "      <td>696.478641</td>\n",
       "    </tr>\n",
       "    <tr>\n",
       "      <th>22</th>\n",
       "      <td>447.059788</td>\n",
       "      <td>579.018200</td>\n",
       "    </tr>\n",
       "    <tr>\n",
       "      <th>23</th>\n",
       "      <td>1569.467782</td>\n",
       "      <td>612.764572</td>\n",
       "    </tr>\n",
       "    <tr>\n",
       "      <th>24</th>\n",
       "      <td>619.286964</td>\n",
       "      <td>444.471076</td>\n",
       "    </tr>\n",
       "    <tr>\n",
       "      <th>25</th>\n",
       "      <td>271.205877</td>\n",
       "      <td>424.353589</td>\n",
       "    </tr>\n",
       "    <tr>\n",
       "      <th>26</th>\n",
       "      <td>476.271507</td>\n",
       "      <td>416.104162</td>\n",
       "    </tr>\n",
       "    <tr>\n",
       "      <th>27</th>\n",
       "      <td>446.187751</td>\n",
       "      <td>918.967802</td>\n",
       "    </tr>\n",
       "    <tr>\n",
       "      <th>28</th>\n",
       "      <td>348.457117</td>\n",
       "      <td>380.555705</td>\n",
       "    </tr>\n",
       "    <tr>\n",
       "      <th>29</th>\n",
       "      <td>549.552608</td>\n",
       "      <td>480.879743</td>\n",
       "    </tr>\n",
       "  </tbody>\n",
       "</table>\n",
       "</div>"
      ],
      "text/plain": [
       "         Actual    Predicted\n",
       "0    678.667328   725.671088\n",
       "1    427.849651   583.019003\n",
       "2    612.718125   783.337568\n",
       "3    653.130961   346.828736\n",
       "4    186.033232   431.212777\n",
       "5   1617.911821  1133.785951\n",
       "6    414.649524   416.277983\n",
       "7   1819.424215  1613.038106\n",
       "8    349.459422  1127.581129\n",
       "9    189.174174   394.946574\n",
       "10   700.825396   534.322052\n",
       "11   501.604437   418.249242\n",
       "12   548.199472   656.641471\n",
       "13   377.504054   429.837581\n",
       "14   306.371146   409.166196\n",
       "15   764.590382   397.877915\n",
       "16   652.424857  1074.436636\n",
       "17  1100.714453   429.251900\n",
       "18   389.552015   797.575380\n",
       "19   257.054446   530.225414\n",
       "20   662.841691   390.780757\n",
       "21   713.554360   696.478641\n",
       "22   447.059788   579.018200\n",
       "23  1569.467782   612.764572\n",
       "24   619.286964   444.471076\n",
       "25   271.205877   424.353589\n",
       "26   476.271507   416.104162\n",
       "27   446.187751   918.967802\n",
       "28   348.457117   380.555705\n",
       "29   549.552608   480.879743"
      ]
     },
     "execution_count": 47,
     "metadata": {},
     "output_type": "execute_result"
    }
   ],
   "source": [
    "# Create a dataframe comparing the actual and predicted values of y.\n",
    "data = pd.DataFrame({'Actual': y2_test.flatten(), 'Predicted': y2_predicted.flatten()})\n",
    "data.head(30)"
   ]
  },
  {
   "cell_type": "markdown",
   "id": "ce91b3b7-2ae7-42df-89c8-315b94d8bd43",
   "metadata": {},
   "source": [
    "**There are huge differences between the actual and predicted values, which is not surprising given the spread of the data points**"
   ]
  },
  {
   "cell_type": "markdown",
   "id": "17250664-de06-46a4-88ee-b85d98b8a2a8",
   "metadata": {},
   "source": [
    "#### Comparing how the regression fits the training set"
   ]
  },
  {
   "cell_type": "code",
   "execution_count": 48,
   "id": "5679340b-683e-4d73-a1c9-8ff7e265d89d",
   "metadata": {},
   "outputs": [],
   "source": [
    "# Predict.\n",
    "y2_predicted_train = regression.predict(X2_train) "
   ]
  },
  {
   "cell_type": "code",
   "execution_count": 49,
   "id": "b01b62d9-7d2c-41f2-bd68-5c7fa17843db",
   "metadata": {},
   "outputs": [],
   "source": [
    "# Create objects that contain the model summary statistics - MSE (mean square error) and R2 score\n",
    "rmse = mean_squared_error(y2_train, y2_predicted_train)\n",
    "r2 = r2_score(y2_train, y2_predicted_train)"
   ]
  },
  {
   "cell_type": "code",
   "execution_count": 50,
   "id": "64bd26b0-73f8-4d3e-8d70-d51cf67e7557",
   "metadata": {},
   "outputs": [
    {
     "name": "stdout",
     "output_type": "stream",
     "text": [
      "Slope: [[0.02190137]]\n",
      "Mean squared error:  153371.19022978298\n",
      "R2 score:  0.2914183863114268\n"
     ]
    }
   ],
   "source": [
    "# Print the model summary statistics. This is where you evaluate the performance of the model.\n",
    "print('Slope:' ,regression.coef_)\n",
    "print('Mean squared error: ', rmse)\n",
    "print('R2 score: ', r2)"
   ]
  },
  {
   "cell_type": "code",
   "execution_count": 51,
   "id": "2db00e59-69c0-4b59-96af-e77f5704f639",
   "metadata": {},
   "outputs": [
    {
     "data": {
      "image/png": "[encoded data removed]",
      "text/plain": [
       "<Figure size 432x288 with 1 Axes>"
      ]
     },
     "metadata": {
      "needs_background": "light"
     },
     "output_type": "display_data"
    }
   ],
   "source": [
    "# Visualizing the training set results.\n",
    "\n",
    "plot_test = plt\n",
    "plot_test.scatter(X2_train, y2_train, color='green', s = 15)\n",
    "plot_test.plot(X2_train, y2_predicted_train, color='red', linewidth =3)\n",
    "plot_test.title('Spending on Ultra-Processed Food vs Disposable Income (Train set)')\n",
    "plot_test.xlabel('Disposable Income')\n",
    "plot_test.ylabel('Spending on Ultra-Processed Food')\n",
    "plot_test.show()"
   ]
  },
  {
   "cell_type": "markdown",
   "id": "0fd6e693-7307-48e0-875e-7b99b35fd064",
   "metadata": {},
   "source": [
    "**The model performs reasonably well and is not over fitted with similar values for the Slope: test - 0.022 and train - 0.022, MSE: test - 162500  and train - 153371, R2 score:  test - 0.304 and train - 0.291.<br>\n",
    "Removing further outliers would not improve the model**"
   ]
  },
  {
   "cell_type": "markdown",
   "id": "ff486db3-1331-4e79-a76c-c5059e3db2a2",
   "metadata": {},
   "source": [
    "---"
   ]
  },
  {
   "cell_type": "markdown",
   "id": "cf83e90a-6c99-49c9-8f8e-e9562771232f",
   "metadata": {},
   "source": [
    "## 05. Reflections on the Impact of Possible Data Bias"
   ]
  },
  {
   "cell_type": "markdown",
   "id": "b4558cd8-93d5-4637-94d9-d6a4deb58092",
   "metadata": {},
   "source": [
    "* Both data sets for analysis contained 26k data points which should help to eliminate bias when the data set is split into the training and test set. The survey may not acurately represent the variation between households and excludes food costs on items consumed outside the home. \n",
    "* The two variables 'W_unprocessed_food' and 'W_ultra_processed_food' are closely related and may not be truly independent. People with less disposable income may have to spend it all on food and will therefore have to choose between the three food groups unprocessed, processed and ultra-processed. If they spend more on ultra-processed food then this will leave less for unprocessed food and vice versa. As the disposable income increases this becomes less of a problem."
   ]
  }
 ],
 "metadata": {
  "kernelspec": {
   "display_name": "Python 3 (ipykernel)",
   "language": "python",
   "name": "python3"
  },
  "language_info": {
   "codemirror_mode": {
    "name": "ipython",
    "version": 3
   },
   "file_extension": ".py",
   "mimetype": "text/x-python",
   "name": "python",
   "nbconvert_exporter": "python",
   "pygments_lexer": "ipython3",
   "version": "3.9.12"
  }
 },
 "nbformat": 4,
 "nbformat_minor": 5
}
